{
  "cells": [
    {
      "cell_type": "markdown",
      "metadata": {
        "id": "lP6JLo1tGNBg"
      },
      "source": [
        "#EEG-signal classification for the Detection of epileptic seizure\n",
        "\n"
      ]
    },
    {
      "cell_type": "markdown",
      "metadata": {
        "id": "gWZyYmS_UE_L"
      },
      "source": [
        "### Importing the libraries"
      ]
    },
    {
      "cell_type": "code",
      "execution_count": null,
      "metadata": {
        "id": "y5IqcE-4FDx9"
      },
      "outputs": [],
      "source": [
        "import pywt\n",
        "import matplotlib.pyplot as plt\n",
        "import os\n",
        "import numpy as np\n",
        "import pandas as pd\n",
        "import seaborn as sn\n",
        "from sklearn.model_selection import train_test_split\n",
        "from sklearn.svm import SVC\n",
        "from sklearn.metrics import accuracy_score\n",
        "from sklearn.model_selection import GridSearchCV\n",
        "from sklearn.decomposition import PCA\n",
        "from sklearn.preprocessing import StandardScaler\n",
        "from sklearn.preprocessing import RobustScaler\n",
        "from sklearn.metrics import accuracy_score, recall_score, confusion_matrix\n",
        "from sklearn.metrics import log_loss\n",
        "from sklearn.metrics import precision_score, f1_score"
      ]
    },
    {
      "cell_type": "markdown",
      "metadata": {
        "id": "fbU0KlVrJ0Qr"
      },
      "source": [
        "### Data Pre-Processing"
      ]
    },
    {
      "cell_type": "code",
      "execution_count": null,
      "metadata": {
        "id": "IM7Yb3rxFDyA"
      },
      "outputs": [],
      "source": [
        "def process_eeg_file(file_path, label):\n",
        "    data = np.loadtxt(file_path)\n",
        "    num_chunks = 23\n",
        "    chunk_size = 178\n",
        "    chunks = [data[i:i + chunk_size] for i in range(0, len(data), chunk_size)]\n",
        "    labeled_chunks = [(chunk, label) for chunk in chunks]\n",
        "    return labeled_chunks\n",
        "\n",
        "def process_dataset_folder(folder_path, label):\n",
        "    dataset = []\n",
        "    for file_name in os.listdir(folder_path):\n",
        "        if file_name.upper().endswith(\".TXT\"):\n",
        "            file_path = os.path.join(folder_path, file_name)\n",
        "            dataset.extend(process_eeg_file(file_path, label))\n",
        "    return dataset\n"
      ]
    },
    {
      "cell_type": "code",
      "execution_count": null,
      "metadata": {
        "id": "vEZwz5oKFDyB",
        "outputId": "675044a9-11d7-40af-eaa9-a4ca5b262846"
      },
      "outputs": [
        {
          "name": "stdout",
          "output_type": "stream",
          "text": [
            "Class 1, Folder /home/mariem/data_soumaya/A: 2400 lines\n",
            "Class 2, Folder /home/mariem/data_soumaya/B: 2400 lines\n",
            "Class 3, Folder /home/mariem/data_soumaya/C: 2400 lines\n",
            "Class 4, Folder /home/mariem/data_soumaya/D: 2400 lines\n",
            "Class 5, Folder /home/mariem/data_soumaya/E: 2400 lines\n"
          ]
        }
      ],
      "source": [
        "class_folders = {\n",
        "    1: \"./data/A\",\n",
        "    2: \"./data/B\",\n",
        "    3: \"./data/C\",\n",
        "    4: \"./data/D\",\n",
        "    5: \"./data/E\",\n",
        "}\n",
        "\n",
        "full_dataset = []\n",
        "\n",
        "for label, folder in class_folders.items():\n",
        "    folder_path = os.path.join(\"./data\", folder)\n",
        "    class_dataset = process_dataset_folder(folder_path, label)\n",
        "    full_dataset.extend(class_dataset)\n",
        "    print(f\"Class {label}, Folder {folder}: {len(class_dataset)} lines\")\n",
        "np.random.shuffle(full_dataset)\n",
        "\n",
        "X = [entry[0] for entry in full_dataset]\n",
        "y = np.array([entry[1] for entry in full_dataset])\n",
        "\n",
        "max_length = max(len(chunk) for chunk in X)\n",
        "X_padded = np.array([np.pad(chunk, (0, max_length - len(chunk))) for chunk in X])\n",
        "\n",
        "columns = [f\"X{i}\" for i in range(1, max_length + 1)] + [\"y\"]\n",
        "df = pd.DataFrame(np.column_stack([X_padded, y]), columns=columns)\n",
        "\n",
        "\n",
        "df.to_csv(\"./data/data.csv\", index=False)\n"
      ]
    },
    {
      "cell_type": "code",
      "source": [
        "ESR = pd.read_csv('./data/data.csv')"
      ],
      "metadata": {
        "id": "Vjap1OJMq88J"
      },
      "execution_count": null,
      "outputs": []
    },
    {
      "cell_type": "code",
      "execution_count": null,
      "metadata": {
        "id": "yaBu5PloFDyD"
      },
      "outputs": [],
      "source": [
        "ESR.head()\n",
        "ESR = ESR.drop(columns = ESR.columns[0])"
      ]
    },
    {
      "cell_type": "markdown",
      "metadata": {
        "id": "5b7Wwu3OKlIq"
      },
      "source": [
        "### Exploratory Data Analysis"
      ]
    },
    {
      "cell_type": "code",
      "execution_count": null,
      "metadata": {
        "id": "2C9hw7K6FDyD",
        "outputId": "2111d515-7abf-46d7-c72e-cc57238d531e"
      },
      "outputs": [
        {
          "data": {
            "text/plain": [
              "X1      0\n",
              "X2      0\n",
              "X3      0\n",
              "X4      0\n",
              "X5      0\n",
              "       ..\n",
              "X175    0\n",
              "X176    0\n",
              "X177    0\n",
              "X178    0\n",
              "y       0\n",
              "Length: 179, dtype: int64"
            ]
          },
          "execution_count": 96,
          "metadata": {},
          "output_type": "execute_result"
        }
      ],
      "source": [
        "ESR.isnull().sum()"
      ]
    },
    {
      "cell_type": "code",
      "execution_count": null,
      "metadata": {
        "id": "mqvX0u8BFDyE",
        "outputId": "2f84d238-7752-4473-e391-b02369800f99"
      },
      "outputs": [
        {
          "data": {
            "text/html": [
              "<div>\n",
              "<style scoped>\n",
              "    .dataframe tbody tr th:only-of-type {\n",
              "        vertical-align: middle;\n",
              "    }\n",
              "\n",
              "    .dataframe tbody tr th {\n",
              "        vertical-align: top;\n",
              "    }\n",
              "\n",
              "    .dataframe thead th {\n",
              "        text-align: right;\n",
              "    }\n",
              "</style>\n",
              "<table border=\"1\" class=\"dataframe\">\n",
              "  <thead>\n",
              "    <tr style=\"text-align: right;\">\n",
              "      <th></th>\n",
              "      <th>X1</th>\n",
              "      <th>X2</th>\n",
              "      <th>X3</th>\n",
              "      <th>X4</th>\n",
              "      <th>X5</th>\n",
              "      <th>X6</th>\n",
              "      <th>X7</th>\n",
              "      <th>X8</th>\n",
              "      <th>X9</th>\n",
              "      <th>X10</th>\n",
              "      <th>...</th>\n",
              "      <th>X170</th>\n",
              "      <th>X171</th>\n",
              "      <th>X172</th>\n",
              "      <th>X173</th>\n",
              "      <th>X174</th>\n",
              "      <th>X175</th>\n",
              "      <th>X176</th>\n",
              "      <th>X177</th>\n",
              "      <th>X178</th>\n",
              "      <th>y</th>\n",
              "    </tr>\n",
              "  </thead>\n",
              "  <tbody>\n",
              "    <tr>\n",
              "      <th>count</th>\n",
              "      <td>11500.000000</td>\n",
              "      <td>11500.000000</td>\n",
              "      <td>11500.000000</td>\n",
              "      <td>11500.000000</td>\n",
              "      <td>11500.000000</td>\n",
              "      <td>11500.000000</td>\n",
              "      <td>11500.000000</td>\n",
              "      <td>11500.00000</td>\n",
              "      <td>11500.00000</td>\n",
              "      <td>11500.000000</td>\n",
              "      <td>...</td>\n",
              "      <td>11500.000000</td>\n",
              "      <td>11500.000000</td>\n",
              "      <td>11500.000000</td>\n",
              "      <td>11500.000000</td>\n",
              "      <td>11500.000000</td>\n",
              "      <td>11500.000000</td>\n",
              "      <td>11500.000000</td>\n",
              "      <td>11500.000000</td>\n",
              "      <td>11500.000000</td>\n",
              "      <td>11500.000000</td>\n",
              "    </tr>\n",
              "    <tr>\n",
              "      <th>mean</th>\n",
              "      <td>-11.581391</td>\n",
              "      <td>-10.911565</td>\n",
              "      <td>-10.187130</td>\n",
              "      <td>-9.143043</td>\n",
              "      <td>-8.009739</td>\n",
              "      <td>-7.003478</td>\n",
              "      <td>-6.502087</td>\n",
              "      <td>-6.68713</td>\n",
              "      <td>-6.55800</td>\n",
              "      <td>-6.168435</td>\n",
              "      <td>...</td>\n",
              "      <td>-10.145739</td>\n",
              "      <td>-11.630348</td>\n",
              "      <td>-12.943478</td>\n",
              "      <td>-13.668870</td>\n",
              "      <td>-13.363304</td>\n",
              "      <td>-13.045043</td>\n",
              "      <td>-12.705130</td>\n",
              "      <td>-12.426000</td>\n",
              "      <td>-12.195652</td>\n",
              "      <td>3.000000</td>\n",
              "    </tr>\n",
              "    <tr>\n",
              "      <th>std</th>\n",
              "      <td>165.626284</td>\n",
              "      <td>166.059609</td>\n",
              "      <td>163.524317</td>\n",
              "      <td>161.269041</td>\n",
              "      <td>160.998007</td>\n",
              "      <td>161.328725</td>\n",
              "      <td>161.467837</td>\n",
              "      <td>162.11912</td>\n",
              "      <td>162.03336</td>\n",
              "      <td>160.436352</td>\n",
              "      <td>...</td>\n",
              "      <td>164.652883</td>\n",
              "      <td>166.149790</td>\n",
              "      <td>168.554058</td>\n",
              "      <td>168.556486</td>\n",
              "      <td>167.257290</td>\n",
              "      <td>164.241019</td>\n",
              "      <td>162.895832</td>\n",
              "      <td>162.886311</td>\n",
              "      <td>164.852015</td>\n",
              "      <td>1.414275</td>\n",
              "    </tr>\n",
              "    <tr>\n",
              "      <th>min</th>\n",
              "      <td>-1839.000000</td>\n",
              "      <td>-1838.000000</td>\n",
              "      <td>-1835.000000</td>\n",
              "      <td>-1845.000000</td>\n",
              "      <td>-1791.000000</td>\n",
              "      <td>-1757.000000</td>\n",
              "      <td>-1832.000000</td>\n",
              "      <td>-1778.00000</td>\n",
              "      <td>-1840.00000</td>\n",
              "      <td>-1867.000000</td>\n",
              "      <td>...</td>\n",
              "      <td>-1867.000000</td>\n",
              "      <td>-1865.000000</td>\n",
              "      <td>-1642.000000</td>\n",
              "      <td>-1723.000000</td>\n",
              "      <td>-1866.000000</td>\n",
              "      <td>-1863.000000</td>\n",
              "      <td>-1781.000000</td>\n",
              "      <td>-1727.000000</td>\n",
              "      <td>-1829.000000</td>\n",
              "      <td>1.000000</td>\n",
              "    </tr>\n",
              "    <tr>\n",
              "      <th>25%</th>\n",
              "      <td>-54.000000</td>\n",
              "      <td>-55.000000</td>\n",
              "      <td>-54.000000</td>\n",
              "      <td>-54.000000</td>\n",
              "      <td>-54.000000</td>\n",
              "      <td>-54.000000</td>\n",
              "      <td>-54.000000</td>\n",
              "      <td>-55.00000</td>\n",
              "      <td>-55.00000</td>\n",
              "      <td>-54.000000</td>\n",
              "      <td>...</td>\n",
              "      <td>-55.000000</td>\n",
              "      <td>-56.000000</td>\n",
              "      <td>-56.000000</td>\n",
              "      <td>-56.000000</td>\n",
              "      <td>-55.000000</td>\n",
              "      <td>-56.000000</td>\n",
              "      <td>-55.000000</td>\n",
              "      <td>-55.000000</td>\n",
              "      <td>-55.000000</td>\n",
              "      <td>2.000000</td>\n",
              "    </tr>\n",
              "    <tr>\n",
              "      <th>50%</th>\n",
              "      <td>-8.000000</td>\n",
              "      <td>-8.000000</td>\n",
              "      <td>-7.000000</td>\n",
              "      <td>-8.000000</td>\n",
              "      <td>-8.000000</td>\n",
              "      <td>-8.000000</td>\n",
              "      <td>-8.000000</td>\n",
              "      <td>-8.00000</td>\n",
              "      <td>-7.00000</td>\n",
              "      <td>-7.000000</td>\n",
              "      <td>...</td>\n",
              "      <td>-9.000000</td>\n",
              "      <td>-10.000000</td>\n",
              "      <td>-10.000000</td>\n",
              "      <td>-10.000000</td>\n",
              "      <td>-10.000000</td>\n",
              "      <td>-9.000000</td>\n",
              "      <td>-9.000000</td>\n",
              "      <td>-9.000000</td>\n",
              "      <td>-9.000000</td>\n",
              "      <td>3.000000</td>\n",
              "    </tr>\n",
              "    <tr>\n",
              "      <th>75%</th>\n",
              "      <td>34.000000</td>\n",
              "      <td>35.000000</td>\n",
              "      <td>36.000000</td>\n",
              "      <td>36.000000</td>\n",
              "      <td>35.000000</td>\n",
              "      <td>36.000000</td>\n",
              "      <td>35.000000</td>\n",
              "      <td>36.00000</td>\n",
              "      <td>36.00000</td>\n",
              "      <td>35.250000</td>\n",
              "      <td>...</td>\n",
              "      <td>34.000000</td>\n",
              "      <td>34.000000</td>\n",
              "      <td>33.000000</td>\n",
              "      <td>33.000000</td>\n",
              "      <td>34.000000</td>\n",
              "      <td>34.000000</td>\n",
              "      <td>34.000000</td>\n",
              "      <td>34.000000</td>\n",
              "      <td>34.000000</td>\n",
              "      <td>4.000000</td>\n",
              "    </tr>\n",
              "    <tr>\n",
              "      <th>max</th>\n",
              "      <td>1726.000000</td>\n",
              "      <td>1713.000000</td>\n",
              "      <td>1697.000000</td>\n",
              "      <td>1612.000000</td>\n",
              "      <td>1518.000000</td>\n",
              "      <td>1816.000000</td>\n",
              "      <td>2047.000000</td>\n",
              "      <td>2047.00000</td>\n",
              "      <td>2047.00000</td>\n",
              "      <td>2047.000000</td>\n",
              "      <td>...</td>\n",
              "      <td>1777.000000</td>\n",
              "      <td>1472.000000</td>\n",
              "      <td>1319.000000</td>\n",
              "      <td>1436.000000</td>\n",
              "      <td>1733.000000</td>\n",
              "      <td>1958.000000</td>\n",
              "      <td>2047.000000</td>\n",
              "      <td>2047.000000</td>\n",
              "      <td>1915.000000</td>\n",
              "      <td>5.000000</td>\n",
              "    </tr>\n",
              "  </tbody>\n",
              "</table>\n",
              "<p>8 rows × 179 columns</p>\n",
              "</div>"
            ],
            "text/plain": [
              "                 X1            X2            X3            X4            X5   \n",
              "count  11500.000000  11500.000000  11500.000000  11500.000000  11500.000000  \\\n",
              "mean     -11.581391    -10.911565    -10.187130     -9.143043     -8.009739   \n",
              "std      165.626284    166.059609    163.524317    161.269041    160.998007   \n",
              "min    -1839.000000  -1838.000000  -1835.000000  -1845.000000  -1791.000000   \n",
              "25%      -54.000000    -55.000000    -54.000000    -54.000000    -54.000000   \n",
              "50%       -8.000000     -8.000000     -7.000000     -8.000000     -8.000000   \n",
              "75%       34.000000     35.000000     36.000000     36.000000     35.000000   \n",
              "max     1726.000000   1713.000000   1697.000000   1612.000000   1518.000000   \n",
              "\n",
              "                 X6            X7           X8           X9           X10   \n",
              "count  11500.000000  11500.000000  11500.00000  11500.00000  11500.000000  \\\n",
              "mean      -7.003478     -6.502087     -6.68713     -6.55800     -6.168435   \n",
              "std      161.328725    161.467837    162.11912    162.03336    160.436352   \n",
              "min    -1757.000000  -1832.000000  -1778.00000  -1840.00000  -1867.000000   \n",
              "25%      -54.000000    -54.000000    -55.00000    -55.00000    -54.000000   \n",
              "50%       -8.000000     -8.000000     -8.00000     -7.00000     -7.000000   \n",
              "75%       36.000000     35.000000     36.00000     36.00000     35.250000   \n",
              "max     1816.000000   2047.000000   2047.00000   2047.00000   2047.000000   \n",
              "\n",
              "       ...          X170          X171          X172          X173   \n",
              "count  ...  11500.000000  11500.000000  11500.000000  11500.000000  \\\n",
              "mean   ...    -10.145739    -11.630348    -12.943478    -13.668870   \n",
              "std    ...    164.652883    166.149790    168.554058    168.556486   \n",
              "min    ...  -1867.000000  -1865.000000  -1642.000000  -1723.000000   \n",
              "25%    ...    -55.000000    -56.000000    -56.000000    -56.000000   \n",
              "50%    ...     -9.000000    -10.000000    -10.000000    -10.000000   \n",
              "75%    ...     34.000000     34.000000     33.000000     33.000000   \n",
              "max    ...   1777.000000   1472.000000   1319.000000   1436.000000   \n",
              "\n",
              "               X174          X175          X176          X177          X178   \n",
              "count  11500.000000  11500.000000  11500.000000  11500.000000  11500.000000  \\\n",
              "mean     -13.363304    -13.045043    -12.705130    -12.426000    -12.195652   \n",
              "std      167.257290    164.241019    162.895832    162.886311    164.852015   \n",
              "min    -1866.000000  -1863.000000  -1781.000000  -1727.000000  -1829.000000   \n",
              "25%      -55.000000    -56.000000    -55.000000    -55.000000    -55.000000   \n",
              "50%      -10.000000     -9.000000     -9.000000     -9.000000     -9.000000   \n",
              "75%       34.000000     34.000000     34.000000     34.000000     34.000000   \n",
              "max     1733.000000   1958.000000   2047.000000   2047.000000   1915.000000   \n",
              "\n",
              "                  y  \n",
              "count  11500.000000  \n",
              "mean       3.000000  \n",
              "std        1.414275  \n",
              "min        1.000000  \n",
              "25%        2.000000  \n",
              "50%        3.000000  \n",
              "75%        4.000000  \n",
              "max        5.000000  \n",
              "\n",
              "[8 rows x 179 columns]"
            ]
          },
          "execution_count": 97,
          "metadata": {},
          "output_type": "execute_result"
        }
      ],
      "source": [
        "ESR.describe()"
      ]
    },
    {
      "cell_type": "code",
      "execution_count": null,
      "metadata": {
        "id": "1vGDB1ncFDyF"
      },
      "outputs": [],
      "source": [
        "X = ESR.drop(columns = ['y'])\n",
        "y = ESR['y']"
      ]
    },
    {
      "cell_type": "code",
      "execution_count": null,
      "metadata": {
        "id": "ZzcoLxNaFDyF",
        "outputId": "5e2ac08c-24ab-4127-bee9-feae124dd2bf"
      },
      "outputs": [
        {
          "data": {
            "text/plain": [
              "<Axes: >"
            ]
          },
          "execution_count": 99,
          "metadata": {},
          "output_type": "execute_result"
        },
        {
          "data": {
            "image/png": "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",
            "text/plain": [
              "<Figure size 640x480 with 1 Axes>"
            ]
          },
          "metadata": {},
          "output_type": "display_data"
        }
      ],
      "source": [
        "df['y'].hist()\n"
      ]
    },
    {
      "cell_type": "code",
      "execution_count": null,
      "metadata": {
        "id": "9A5BF8dAFDyG",
        "outputId": "60612353-07e6-42ca-d517-04fe2e345572"
      },
      "outputs": [
        {
          "data": {
            "text/plain": [
              "<Axes: >"
            ]
          },
          "execution_count": 100,
          "metadata": {},
          "output_type": "execute_result"
        },
        {
          "data": {
            "image/png": "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",
            "text/plain": [
              "<Figure size 640x480 with 1 Axes>"
            ]
          },
          "metadata": {},
          "output_type": "display_data"
        }
      ],
      "source": [
        "labels = ['no seizure', 'seizure']\n",
        "seizure = np.sum(y == 1)\n",
        "no_seizure = np.sum(y > 1)\n",
        "\n",
        "sn.barplot(x=labels, y=[no_seizure, seizure])"
      ]
    },
    {
      "cell_type": "code",
      "execution_count": null,
      "metadata": {
        "id": "XqrOUUroFDyG",
        "outputId": "c2910edd-0e7b-472f-f674-ea1c07dd6963"
      },
      "outputs": [
        {
          "name": "stdout",
          "output_type": "stream",
          "text": [
            "The number of trials for the non-seizure class is: 9200\n",
            "The number of trials for the seizure class is: 2300\n"
          ]
        }
      ],
      "source": [
        "print('The number of trials for the non-seizure class is:', no_seizure)\n",
        "print('The number of trials for the seizure class is:', seizure)"
      ]
    },
    {
      "cell_type": "code",
      "execution_count": null,
      "metadata": {
        "id": "TJDAdQJ7FDyG",
        "outputId": "9e45f8f3-be5e-421d-e19a-07dbe8f95a05"
      },
      "outputs": [
        {
          "data": {
            "text/plain": [
              "(11500,)"
            ]
          },
          "execution_count": 102,
          "metadata": {},
          "output_type": "execute_result"
        }
      ],
      "source": [
        "Y = ESR.iloc[:,178].values\n",
        "Y.shape"
      ]
    },
    {
      "cell_type": "code",
      "execution_count": null,
      "metadata": {
        "id": "RUQEDJ-mFDyH",
        "outputId": "f4b01099-13b0-4554-d459-a020cf00bd51"
      },
      "outputs": [
        {
          "data": {
            "text/plain": [
              "array([0, 1, 0, ..., 0, 0, 0])"
            ]
          },
          "execution_count": 103,
          "metadata": {},
          "output_type": "execute_result"
        }
      ],
      "source": [
        "Y[Y>1]=0\n",
        "Y"
      ]
    },
    {
      "cell_type": "code",
      "execution_count": null,
      "metadata": {
        "id": "UFuxETN_FDyH",
        "outputId": "1ccad868-8047-49fd-8c63-6e6921a35b2d"
      },
      "outputs": [
        {
          "data": {
            "text/plain": [
              "(11500, 177)"
            ]
          },
          "execution_count": 104,
          "metadata": {},
          "output_type": "execute_result"
        }
      ],
      "source": [
        "X = ESR.iloc[:,1:178].values\n",
        "X.shape"
      ]
    },
    {
      "cell_type": "markdown",
      "metadata": {
        "id": "P1Wviz2xLwNv"
      },
      "source": [
        "\n",
        "\n",
        "### Data Pre-Processing"
      ]
    },
    {
      "cell_type": "markdown",
      "metadata": {
        "id": "Td2vA3pUIBzf"
      },
      "source": [
        "***Haar Wavelet***\n",
        "\n",
        "*   RBF kernel with 50 component PCA\n",
        "\n",
        "\n",
        "\n",
        "\n",
        "\n",
        "\n",
        "\n"
      ]
    },
    {
      "cell_type": "markdown",
      "metadata": {
        "id": "cyl-r-yCeFes"
      },
      "source": [
        "\n",
        "\n",
        "### Haar"
      ]
    },
    {
      "cell_type": "code",
      "execution_count": null,
      "metadata": {
        "id": "Qsvtxn4mFDyI",
        "outputId": "42bba05f-2f50-418c-902d-9816c165bc53"
      },
      "outputs": [
        {
          "name": "stdout",
          "output_type": "stream",
          "text": [
            "   wavelet_0  wavelet_1  wavelet_2  wavelet_3  wavelet_4  wavelet_5   \n",
            "0      388.5      181.5      -23.0      246.5        4.5     -207.0  \\\n",
            "1      727.5      607.0      485.5     -329.0    -2025.0    -1164.5   \n",
            "2      -77.5      -99.0     -186.0     -197.5     -133.0      -50.0   \n",
            "3     -197.0     -193.0     -153.0     -155.0     -123.0     -162.0   \n",
            "4     -137.0      -71.0     -136.5      -66.5     -140.0      -17.5   \n",
            "\n",
            "   wavelet_6  wavelet_7  wavelet_8  wavelet_9  ...  wavelet_170  wavelet_171   \n",
            "0       61.0       52.0     -209.5     -158.0  ...    16.970563   -18.384776  \\\n",
            "1      668.0      834.0      643.5      639.0  ...    -9.192388    17.677670   \n",
            "2     -179.0      -84.0       -2.0       32.5  ...    19.798990    -1.414214   \n",
            "3     -165.0     -146.0     -138.5     -136.5  ...     6.363961     2.121320   \n",
            "4       83.0     -132.0      -67.5      -42.0  ...    -4.242641    -6.363961   \n",
            "\n",
            "   wavelet_172  wavelet_173  wavelet_174  wavelet_175  wavelet_176   \n",
            "0    -1.414214   -14.849242    17.677670    11.313708    18.384776  \\\n",
            "1    -7.071068   -22.627417     2.828427     2.828427    -3.535534   \n",
            "2     2.121320   -25.455844   -19.798990    11.313708    21.920310   \n",
            "3     0.000000     0.000000     1.414214    -0.707107     5.656854   \n",
            "4     9.192388     2.828427     4.242641     9.899495     6.363961   \n",
            "\n",
            "   wavelet_177  wavelet_178  y  \n",
            "0    -7.778175   -22.627417  0  \n",
            "1     1.414214     9.899495  1  \n",
            "2     3.535534     0.707107  0  \n",
            "3    -3.535534    -2.828427  0  \n",
            "4    12.727922   -11.313708  0  \n",
            "\n",
            "[5 rows x 180 columns]\n"
          ]
        }
      ],
      "source": [
        "X = ESR.iloc[:, :-1]\n",
        "\n",
        "def apply_wavelet_transform(row):\n",
        "    coeffs = pywt.wavedec(row, 'haar', level=2)\n",
        "    return np.concatenate(coeffs)\n",
        "\n",
        "\n",
        "wavelet_data = np.apply_along_axis(apply_wavelet_transform, axis=1, arr=X.to_numpy())\n",
        "\n",
        "\n",
        "wavelet_df = pd.DataFrame(wavelet_data, columns=[f'wavelet_{i}' for i in range(len(wavelet_data[0]))])\n",
        "\n",
        "wavelet_df['y'] = ESR['y']\n",
        "\n",
        "print(wavelet_df.head())\n",
        "\n"
      ]
    },
    {
      "cell_type": "markdown",
      "metadata": {
        "id": "C_ZTgLt4FDyJ"
      },
      "source": [
        " **Data Scaling**"
      ]
    },
    {
      "cell_type": "code",
      "execution_count": null,
      "metadata": {
        "id": "_ZQVaI5aNtjB"
      },
      "outputs": [],
      "source": [
        "X = wavelet_df.iloc[:, :-1]\n",
        "y = wavelet_df['y']\n",
        "\n",
        "num_bins = 5\n",
        "y_categorical = pd.cut(y, bins=num_bins, labels=False)\n",
        "\n",
        "\n",
        "scaler = StandardScaler()\n",
        "X_standardized = scaler.fit_transform(X)\n"
      ]
    },
    {
      "cell_type": "markdown",
      "metadata": {
        "id": "0BycpCb4FDyJ"
      },
      "source": [
        "**PCA with 50 components**"
      ]
    },
    {
      "cell_type": "code",
      "execution_count": null,
      "metadata": {
        "id": "Hc51ZXIwOl2d",
        "outputId": "700c442b-c5a5-40af-c28f-42e5cd285fa8"
      },
      "outputs": [
        {
          "name": "stdout",
          "output_type": "stream",
          "text": [
            "        PC1       PC2       PC3       PC4       PC5       PC6       PC7   \n",
            "0  0.089852 -1.569965  0.749391  2.300708  1.079394  0.396545  1.085365  \\\n",
            "1  4.815092 -4.366820  8.811180 -6.081328  2.403974 -6.056572  2.846337   \n",
            "2 -0.619919  0.250791  0.142535 -0.780557  0.316553  0.007594  0.939809   \n",
            "3  0.127251 -0.260284 -0.218524 -0.042514  0.037713  0.098298  0.084559   \n",
            "4 -0.058238  0.073363 -0.365596 -0.833235  0.185958 -0.769978  0.365749   \n",
            "\n",
            "        PC8       PC9      PC10  ...      PC42      PC43      PC44      PC45   \n",
            "0 -2.517127 -1.799333  0.973587  ...  0.901531 -0.077781 -1.134246  1.061774  \\\n",
            "1 -8.963298  7.376978  0.030580  ... -6.430071 -1.119231  2.551796 -0.600613   \n",
            "2 -0.855647 -0.377385 -0.501338  ... -0.780288 -0.588731  0.641228 -0.050273   \n",
            "3  0.379473 -0.015457 -0.331179  ... -0.140135 -0.455349  0.634094 -0.267213   \n",
            "4 -0.197283 -0.392451  0.444939  ...  0.506945  0.606835 -0.731648 -0.672430   \n",
            "\n",
            "       PC46      PC47      PC48      PC49      PC50  y  \n",
            "0 -0.010978  0.269312 -1.008016 -0.551302  0.547342  0  \n",
            "1 -3.312692  0.165397 -5.237838  1.166950  0.383263  4  \n",
            "2 -0.654682 -0.381447  0.376858  0.209080 -0.070065  0  \n",
            "3  0.185625 -0.059706  0.048288  0.065079 -0.111394  0  \n",
            "4  0.408490  0.189957  1.229647  0.604767 -0.036368  0  \n",
            "\n",
            "[5 rows x 51 columns]\n"
          ]
        }
      ],
      "source": [
        "n_components = 50\n",
        "pca = PCA(n_components=n_components)\n",
        "X_pca = pca.fit_transform(X_standardized)\n",
        "\n",
        "\n",
        "pca_df = pd.DataFrame(data=X_pca, columns=[f'PC{i+1}' for i in range(n_components)])\n",
        "pca_df['y'] = y_categorical\n",
        "\n",
        "\n",
        "print(pca_df.head())\n"
      ]
    },
    {
      "cell_type": "code",
      "execution_count": null,
      "metadata": {
        "id": "RpyUWp47O-MG"
      },
      "outputs": [],
      "source": [
        "X_train, X_temp, y_train, y_temp = train_test_split(\n",
        "    pca_df.iloc[:, :-1],\n",
        "    pca_df['y'],\n",
        "    test_size=0.3,\n",
        "    random_state=42\n",
        ")\n",
        "\n",
        "\n",
        "X_val, X_test, y_val, y_test = train_test_split(\n",
        "    X_temp, y_temp,\n",
        "    test_size=0.5,\n",
        "    random_state=42\n",
        ")\n"
      ]
    },
    {
      "cell_type": "markdown",
      "metadata": {
        "id": "wcwd9emeXb1Q"
      },
      "source": [
        "**SVM with RBF kernel**"
      ]
    },
    {
      "cell_type": "code",
      "execution_count": null,
      "metadata": {
        "id": "M_Wkfj3ePD_E"
      },
      "outputs": [],
      "source": [
        "svm = SVC()\n",
        "\n",
        "\n",
        "param_grid = {\n",
        "    'C': [1, 10],\n",
        "    'kernel': [ 'rbf'],\n",
        "}\n"
      ]
    },
    {
      "cell_type": "code",
      "execution_count": null,
      "metadata": {
        "id": "SXD5PKngFDyJ"
      },
      "outputs": [],
      "source": [
        "\n",
        "\n",
        "grid_search = GridSearchCV(estimator=svm, param_grid=param_grid, cv=5)\n",
        "grid_search.fit(X_train, y_train)\n",
        "\n",
        "\n",
        "best_params = grid_search.best_params_\n",
        "\n",
        "\n",
        "best_svm = SVC(**best_params)\n",
        "best_svm.fit(X_train, y_train)\n",
        "\n",
        "\n",
        "y_val_pred = best_svm.predict(X_val)\n",
        "\n",
        "val_accuracy = accuracy_score(y_val, y_val_pred)\n",
        "val_recall = recall_score(y_val, y_val_pred, pos_label=4)\n",
        "val_precision = precision_score(y_val, y_val_pred, pos_label=4)\n",
        "val_f1 = f1_score(y_val, y_val_pred, pos_label=4)\n",
        "\n",
        "\n",
        "\n",
        "y_test_pred = best_svm.predict(X_test)\n",
        "\n",
        "test_accuracy = accuracy_score(y_test, y_test_pred)\n",
        "test_recall = recall_score(y_test, y_test_pred, pos_label=4)\n",
        "test_precision = precision_score(y_test, y_test_pred, pos_label=4)\n",
        "test_f1 = f1_score(y_test, y_test_pred, pos_label=4)\n",
        "\n",
        "\n",
        "\n"
      ]
    },
    {
      "cell_type": "code",
      "execution_count": null,
      "metadata": {
        "id": "tnJt79G9OLjG",
        "outputId": "368af538-5d72-427a-dfe7-34e95a422365"
      },
      "outputs": [
        {
          "name": "stdout",
          "output_type": "stream",
          "text": [
            "\n",
            "Best Hyperparameters: {'C': 10, 'kernel': 'rbf'}\n",
            "Validation Accuracy: 0.9757\n",
            "Validation Recall: 0.9134\n",
            "Validation Precision: 0.9592\n",
            "Validation F1 Score: 0.9358\n",
            "Test Accuracy: 0.9774\n",
            "Test Recall: 0.9284\n",
            "Test Precision: 0.9629\n",
            "Test F1 Score: 0.9453\n"
          ]
        }
      ],
      "source": [
        "print(f\"\\nBest Hyperparameters: {best_params}\")\n",
        "print(f\"Validation Accuracy: {val_accuracy:.4f}\")\n",
        "print(f\"Validation Recall: {val_recall:.4f}\")\n",
        "print(f\"Validation Precision: {val_precision:.4f}\")\n",
        "print(f\"Validation F1 Score: {val_f1:.4f}\")\n",
        "\n",
        "print(f\"Test Accuracy: {test_accuracy:.4f}\")\n",
        "print(f\"Test Recall: {test_recall:.4f}\")\n",
        "print(f\"Test Precision: {test_precision:.4f}\")\n",
        "print(f\"Test F1 Score: {test_f1:.4f}\")"
      ]
    }
  ],
  "metadata": {
    "colab": {
      "provenance": []
    },
    "kernelspec": {
      "display_name": "Python 3",
      "language": "python",
      "name": "python3"
    },
    "language_info": {
      "codemirror_mode": {
        "name": "ipython",
        "version": 3
      },
      "file_extension": ".py",
      "mimetype": "text/x-python",
      "name": "python",
      "nbconvert_exporter": "python",
      "pygments_lexer": "ipython3",
      "version": "3.10.12"
    },
    "orig_nbformat": 4
  },
  "nbformat": 4,
  "nbformat_minor": 0
}{
  "cells": [
    {
      "cell_type": "markdown",
      "metadata": {
        "id": "lP6JLo1tGNBg"
      },
      "source": [
        "#EEG-signal classification for the Detection of epileptic seizure\n",
        "\n"
      ]
    },
    {
      "cell_type": "markdown",
      "metadata": {
        "id": "gWZyYmS_UE_L"
      },
      "source": [
        "### Importing the libraries"
      ]
    },
    {
      "cell_type": "code",
      "execution_count": null,
      "metadata": {
        "id": "y5IqcE-4FDx9"
      },
      "outputs": [],
      "source": [
        "import pywt\n",
        "import matplotlib.pyplot as plt\n",
        "import os\n",
        "import numpy as np\n",
        "import pandas as pd\n",
        "import seaborn as sn\n",
        "from sklearn.model_selection import train_test_split\n",
        "from sklearn.svm import SVC\n",
        "from sklearn.metrics import accuracy_score\n",
        "from sklearn.model_selection import GridSearchCV\n",
        "from sklearn.decomposition import PCA\n",
        "from sklearn.preprocessing import StandardScaler\n",
        "from sklearn.preprocessing import RobustScaler\n",
        "from sklearn.metrics import accuracy_score, recall_score, confusion_matrix\n",
        "from sklearn.metrics import log_loss\n",
        "from sklearn.metrics import precision_score, f1_score"
      ]
    },
    {
      "cell_type": "markdown",
      "metadata": {
        "id": "fbU0KlVrJ0Qr"
      },
      "source": [
        "### Data Pre-Processing"
      ]
    },
    {
      "cell_type": "code",
      "execution_count": null,
      "metadata": {
        "id": "IM7Yb3rxFDyA"
      },
      "outputs": [],
      "source": [
        "def process_eeg_file(file_path, label):\n",
        "    data = np.loadtxt(file_path)\n",
        "    num_chunks = 23\n",
        "    chunk_size = 178\n",
        "    chunks = [data[i:i + chunk_size] for i in range(0, len(data), chunk_size)]\n",
        "    labeled_chunks = [(chunk, label) for chunk in chunks]\n",
        "    return labeled_chunks\n",
        "\n",
        "def process_dataset_folder(folder_path, label):\n",
        "    dataset = []\n",
        "    for file_name in os.listdir(folder_path):\n",
        "        if file_name.upper().endswith(\".TXT\"):\n",
        "            file_path = os.path.join(folder_path, file_name)\n",
        "            dataset.extend(process_eeg_file(file_path, label))\n",
        "    return dataset\n"
      ]
    },
    {
      "cell_type": "code",
      "execution_count": null,
      "metadata": {
        "id": "vEZwz5oKFDyB",
        "outputId": "675044a9-11d7-40af-eaa9-a4ca5b262846"
      },
      "outputs": [
        {
          "name": "stdout",
          "output_type": "stream",
          "text": [
            "Class 1, Folder /home/mariem/data_soumaya/A: 2400 lines\n",
            "Class 2, Folder /home/mariem/data_soumaya/B: 2400 lines\n",
            "Class 3, Folder /home/mariem/data_soumaya/C: 2400 lines\n",
            "Class 4, Folder /home/mariem/data_soumaya/D: 2400 lines\n",
            "Class 5, Folder /home/mariem/data_soumaya/E: 2400 lines\n"
          ]
        }
      ],
      "source": [
        "class_folders = {\n",
        "    1: \"./data/A\",\n",
        "    2: \"./data/B\",\n",
        "    3: \"./data/C\",\n",
        "    4: \"./data/D\",\n",
        "    5: \"./data/E\",\n",
        "}\n",
        "\n",
        "full_dataset = []\n",
        "\n",
        "for label, folder in class_folders.items():\n",
        "    folder_path = os.path.join(\"./data\", folder)\n",
        "    class_dataset = process_dataset_folder(folder_path, label)\n",
        "    full_dataset.extend(class_dataset)\n",
        "    print(f\"Class {label}, Folder {folder}: {len(class_dataset)} lines\")\n",
        "np.random.shuffle(full_dataset)\n",
        "\n",
        "X = [entry[0] for entry in full_dataset]\n",
        "y = np.array([entry[1] for entry in full_dataset])\n",
        "\n",
        "max_length = max(len(chunk) for chunk in X)\n",
        "X_padded = np.array([np.pad(chunk, (0, max_length - len(chunk))) for chunk in X])\n",
        "\n",
        "columns = [f\"X{i}\" for i in range(1, max_length + 1)] + [\"y\"]\n",
        "df = pd.DataFrame(np.column_stack([X_padded, y]), columns=columns)\n",
        "\n",
        "\n",
        "df.to_csv(\"./data/data.csv\", index=False)\n"
      ]
    },
    {
      "cell_type": "code",
      "source": [
        "ESR = pd.read_csv('./data/data.csv')"
      ],
      "metadata": {
        "id": "Vjap1OJMq88J"
      },
      "execution_count": null,
      "outputs": []
    },
    {
      "cell_type": "code",
      "execution_count": null,
      "metadata": {
        "id": "yaBu5PloFDyD"
      },
      "outputs": [],
      "source": [
        "ESR.head()\n",
        "ESR = ESR.drop(columns = ESR.columns[0])"
      ]
    },
    {
      "cell_type": "markdown",
      "metadata": {
        "id": "5b7Wwu3OKlIq"
      },
      "source": [
        "### Exploratory Data Analysis"
      ]
    },
    {
      "cell_type": "code",
      "execution_count": null,
      "metadata": {
        "id": "2C9hw7K6FDyD",
        "outputId": "2111d515-7abf-46d7-c72e-cc57238d531e"
      },
      "outputs": [
        {
          "data": {
            "text/plain": [
              "X1      0\n",
              "X2      0\n",
              "X3      0\n",
              "X4      0\n",
              "X5      0\n",
              "       ..\n",
              "X175    0\n",
              "X176    0\n",
              "X177    0\n",
              "X178    0\n",
              "y       0\n",
              "Length: 179, dtype: int64"
            ]
          },
          "execution_count": 96,
          "metadata": {},
          "output_type": "execute_result"
        }
      ],
      "source": [
        "ESR.isnull().sum()"
      ]
    },
    {
      "cell_type": "code",
      "execution_count": null,
      "metadata": {
        "id": "mqvX0u8BFDyE",
        "outputId": "2f84d238-7752-4473-e391-b02369800f99"
      },
      "outputs": [
        {
          "data": {
            "text/html": [
              "<div>\n",
              "<style scoped>\n",
              "    .dataframe tbody tr th:only-of-type {\n",
              "        vertical-align: middle;\n",
              "    }\n",
              "\n",
              "    .dataframe tbody tr th {\n",
              "        vertical-align: top;\n",
              "    }\n",
              "\n",
              "    .dataframe thead th {\n",
              "        text-align: right;\n",
              "    }\n",
              "</style>\n",
              "<table border=\"1\" class=\"dataframe\">\n",
              "  <thead>\n",
              "    <tr style=\"text-align: right;\">\n",
              "      <th></th>\n",
              "      <th>X1</th>\n",
              "      <th>X2</th>\n",
              "      <th>X3</th>\n",
              "      <th>X4</th>\n",
              "      <th>X5</th>\n",
              "      <th>X6</th>\n",
              "      <th>X7</th>\n",
              "      <th>X8</th>\n",
              "      <th>X9</th>\n",
              "      <th>X10</th>\n",
              "      <th>...</th>\n",
              "      <th>X170</th>\n",
              "      <th>X171</th>\n",
              "      <th>X172</th>\n",
              "      <th>X173</th>\n",
              "      <th>X174</th>\n",
              "      <th>X175</th>\n",
              "      <th>X176</th>\n",
              "      <th>X177</th>\n",
              "      <th>X178</th>\n",
              "      <th>y</th>\n",
              "    </tr>\n",
              "  </thead>\n",
              "  <tbody>\n",
              "    <tr>\n",
              "      <th>count</th>\n",
              "      <td>11500.000000</td>\n",
              "      <td>11500.000000</td>\n",
              "      <td>11500.000000</td>\n",
              "      <td>11500.000000</td>\n",
              "      <td>11500.000000</td>\n",
              "      <td>11500.000000</td>\n",
              "      <td>11500.000000</td>\n",
              "      <td>11500.00000</td>\n",
              "      <td>11500.00000</td>\n",
              "      <td>11500.000000</td>\n",
              "      <td>...</td>\n",
              "      <td>11500.000000</td>\n",
              "      <td>11500.000000</td>\n",
              "      <td>11500.000000</td>\n",
              "      <td>11500.000000</td>\n",
              "      <td>11500.000000</td>\n",
              "      <td>11500.000000</td>\n",
              "      <td>11500.000000</td>\n",
              "      <td>11500.000000</td>\n",
              "      <td>11500.000000</td>\n",
              "      <td>11500.000000</td>\n",
              "    </tr>\n",
              "    <tr>\n",
              "      <th>mean</th>\n",
              "      <td>-11.581391</td>\n",
              "      <td>-10.911565</td>\n",
              "      <td>-10.187130</td>\n",
              "      <td>-9.143043</td>\n",
              "      <td>-8.009739</td>\n",
              "      <td>-7.003478</td>\n",
              "      <td>-6.502087</td>\n",
              "      <td>-6.68713</td>\n",
              "      <td>-6.55800</td>\n",
              "      <td>-6.168435</td>\n",
              "      <td>...</td>\n",
              "      <td>-10.145739</td>\n",
              "      <td>-11.630348</td>\n",
              "      <td>-12.943478</td>\n",
              "      <td>-13.668870</td>\n",
              "      <td>-13.363304</td>\n",
              "      <td>-13.045043</td>\n",
              "      <td>-12.705130</td>\n",
              "      <td>-12.426000</td>\n",
              "      <td>-12.195652</td>\n",
              "      <td>3.000000</td>\n",
              "    </tr>\n",
              "    <tr>\n",
              "      <th>std</th>\n",
              "      <td>165.626284</td>\n",
              "      <td>166.059609</td>\n",
              "      <td>163.524317</td>\n",
              "      <td>161.269041</td>\n",
              "      <td>160.998007</td>\n",
              "      <td>161.328725</td>\n",
              "      <td>161.467837</td>\n",
              "      <td>162.11912</td>\n",
              "      <td>162.03336</td>\n",
              "      <td>160.436352</td>\n",
              "      <td>...</td>\n",
              "      <td>164.652883</td>\n",
              "      <td>166.149790</td>\n",
              "      <td>168.554058</td>\n",
              "      <td>168.556486</td>\n",
              "      <td>167.257290</td>\n",
              "      <td>164.241019</td>\n",
              "      <td>162.895832</td>\n",
              "      <td>162.886311</td>\n",
              "      <td>164.852015</td>\n",
              "      <td>1.414275</td>\n",
              "    </tr>\n",
              "    <tr>\n",
              "      <th>min</th>\n",
              "      <td>-1839.000000</td>\n",
              "      <td>-1838.000000</td>\n",
              "      <td>-1835.000000</td>\n",
              "      <td>-1845.000000</td>\n",
              "      <td>-1791.000000</td>\n",
              "      <td>-1757.000000</td>\n",
              "      <td>-1832.000000</td>\n",
              "      <td>-1778.00000</td>\n",
              "      <td>-1840.00000</td>\n",
              "      <td>-1867.000000</td>\n",
              "      <td>...</td>\n",
              "      <td>-1867.000000</td>\n",
              "      <td>-1865.000000</td>\n",
              "      <td>-1642.000000</td>\n",
              "      <td>-1723.000000</td>\n",
              "      <td>-1866.000000</td>\n",
              "      <td>-1863.000000</td>\n",
              "      <td>-1781.000000</td>\n",
              "      <td>-1727.000000</td>\n",
              "      <td>-1829.000000</td>\n",
              "      <td>1.000000</td>\n",
              "    </tr>\n",
              "    <tr>\n",
              "      <th>25%</th>\n",
              "      <td>-54.000000</td>\n",
              "      <td>-55.000000</td>\n",
              "      <td>-54.000000</td>\n",
              "      <td>-54.000000</td>\n",
              "      <td>-54.000000</td>\n",
              "      <td>-54.000000</td>\n",
              "      <td>-54.000000</td>\n",
              "      <td>-55.00000</td>\n",
              "      <td>-55.00000</td>\n",
              "      <td>-54.000000</td>\n",
              "      <td>...</td>\n",
              "      <td>-55.000000</td>\n",
              "      <td>-56.000000</td>\n",
              "      <td>-56.000000</td>\n",
              "      <td>-56.000000</td>\n",
              "      <td>-55.000000</td>\n",
              "      <td>-56.000000</td>\n",
              "      <td>-55.000000</td>\n",
              "      <td>-55.000000</td>\n",
              "      <td>-55.000000</td>\n",
              "      <td>2.000000</td>\n",
              "    </tr>\n",
              "    <tr>\n",
              "      <th>50%</th>\n",
              "      <td>-8.000000</td>\n",
              "      <td>-8.000000</td>\n",
              "      <td>-7.000000</td>\n",
              "      <td>-8.000000</td>\n",
              "      <td>-8.000000</td>\n",
              "      <td>-8.000000</td>\n",
              "      <td>-8.000000</td>\n",
              "      <td>-8.00000</td>\n",
              "      <td>-7.00000</td>\n",
              "      <td>-7.000000</td>\n",
              "      <td>...</td>\n",
              "      <td>-9.000000</td>\n",
              "      <td>-10.000000</td>\n",
              "      <td>-10.000000</td>\n",
              "      <td>-10.000000</td>\n",
              "      <td>-10.000000</td>\n",
              "      <td>-9.000000</td>\n",
              "      <td>-9.000000</td>\n",
              "      <td>-9.000000</td>\n",
              "      <td>-9.000000</td>\n",
              "      <td>3.000000</td>\n",
              "    </tr>\n",
              "    <tr>\n",
              "      <th>75%</th>\n",
              "      <td>34.000000</td>\n",
              "      <td>35.000000</td>\n",
              "      <td>36.000000</td>\n",
              "      <td>36.000000</td>\n",
              "      <td>35.000000</td>\n",
              "      <td>36.000000</td>\n",
              "      <td>35.000000</td>\n",
              "      <td>36.00000</td>\n",
              "      <td>36.00000</td>\n",
              "      <td>35.250000</td>\n",
              "      <td>...</td>\n",
              "      <td>34.000000</td>\n",
              "      <td>34.000000</td>\n",
              "      <td>33.000000</td>\n",
              "      <td>33.000000</td>\n",
              "      <td>34.000000</td>\n",
              "      <td>34.000000</td>\n",
              "      <td>34.000000</td>\n",
              "      <td>34.000000</td>\n",
              "      <td>34.000000</td>\n",
              "      <td>4.000000</td>\n",
              "    </tr>\n",
              "    <tr>\n",
              "      <th>max</th>\n",
              "      <td>1726.000000</td>\n",
              "      <td>1713.000000</td>\n",
              "      <td>1697.000000</td>\n",
              "      <td>1612.000000</td>\n",
              "      <td>1518.000000</td>\n",
              "      <td>1816.000000</td>\n",
              "      <td>2047.000000</td>\n",
              "      <td>2047.00000</td>\n",
              "      <td>2047.00000</td>\n",
              "      <td>2047.000000</td>\n",
              "      <td>...</td>\n",
              "      <td>1777.000000</td>\n",
              "      <td>1472.000000</td>\n",
              "      <td>1319.000000</td>\n",
              "      <td>1436.000000</td>\n",
              "      <td>1733.000000</td>\n",
              "      <td>1958.000000</td>\n",
              "      <td>2047.000000</td>\n",
              "      <td>2047.000000</td>\n",
              "      <td>1915.000000</td>\n",
              "      <td>5.000000</td>\n",
              "    </tr>\n",
              "  </tbody>\n",
              "</table>\n",
              "<p>8 rows × 179 columns</p>\n",
              "</div>"
            ],
            "text/plain": [
              "                 X1            X2            X3            X4            X5   \n",
              "count  11500.000000  11500.000000  11500.000000  11500.000000  11500.000000  \\\n",
              "mean     -11.581391    -10.911565    -10.187130     -9.143043     -8.009739   \n",
              "std      165.626284    166.059609    163.524317    161.269041    160.998007   \n",
              "min    -1839.000000  -1838.000000  -1835.000000  -1845.000000  -1791.000000   \n",
              "25%      -54.000000    -55.000000    -54.000000    -54.000000    -54.000000   \n",
              "50%       -8.000000     -8.000000     -7.000000     -8.000000     -8.000000   \n",
              "75%       34.000000     35.000000     36.000000     36.000000     35.000000   \n",
              "max     1726.000000   1713.000000   1697.000000   1612.000000   1518.000000   \n",
              "\n",
              "                 X6            X7           X8           X9           X10   \n",
              "count  11500.000000  11500.000000  11500.00000  11500.00000  11500.000000  \\\n",
              "mean      -7.003478     -6.502087     -6.68713     -6.55800     -6.168435   \n",
              "std      161.328725    161.467837    162.11912    162.03336    160.436352   \n",
              "min    -1757.000000  -1832.000000  -1778.00000  -1840.00000  -1867.000000   \n",
              "25%      -54.000000    -54.000000    -55.00000    -55.00000    -54.000000   \n",
              "50%       -8.000000     -8.000000     -8.00000     -7.00000     -7.000000   \n",
              "75%       36.000000     35.000000     36.00000     36.00000     35.250000   \n",
              "max     1816.000000   2047.000000   2047.00000   2047.00000   2047.000000   \n",
              "\n",
              "       ...          X170          X171          X172          X173   \n",
              "count  ...  11500.000000  11500.000000  11500.000000  11500.000000  \\\n",
              "mean   ...    -10.145739    -11.630348    -12.943478    -13.668870   \n",
              "std    ...    164.652883    166.149790    168.554058    168.556486   \n",
              "min    ...  -1867.000000  -1865.000000  -1642.000000  -1723.000000   \n",
              "25%    ...    -55.000000    -56.000000    -56.000000    -56.000000   \n",
              "50%    ...     -9.000000    -10.000000    -10.000000    -10.000000   \n",
              "75%    ...     34.000000     34.000000     33.000000     33.000000   \n",
              "max    ...   1777.000000   1472.000000   1319.000000   1436.000000   \n",
              "\n",
              "               X174          X175          X176          X177          X178   \n",
              "count  11500.000000  11500.000000  11500.000000  11500.000000  11500.000000  \\\n",
              "mean     -13.363304    -13.045043    -12.705130    -12.426000    -12.195652   \n",
              "std      167.257290    164.241019    162.895832    162.886311    164.852015   \n",
              "min    -1866.000000  -1863.000000  -1781.000000  -1727.000000  -1829.000000   \n",
              "25%      -55.000000    -56.000000    -55.000000    -55.000000    -55.000000   \n",
              "50%      -10.000000     -9.000000     -9.000000     -9.000000     -9.000000   \n",
              "75%       34.000000     34.000000     34.000000     34.000000     34.000000   \n",
              "max     1733.000000   1958.000000   2047.000000   2047.000000   1915.000000   \n",
              "\n",
              "                  y  \n",
              "count  11500.000000  \n",
              "mean       3.000000  \n",
              "std        1.414275  \n",
              "min        1.000000  \n",
              "25%        2.000000  \n",
              "50%        3.000000  \n",
              "75%        4.000000  \n",
              "max        5.000000  \n",
              "\n",
              "[8 rows x 179 columns]"
            ]
          },
          "execution_count": 97,
          "metadata": {},
          "output_type": "execute_result"
        }
      ],
      "source": [
        "ESR.describe()"
      ]
    },
    {
      "cell_type": "code",
      "execution_count": null,
      "metadata": {
        "id": "1vGDB1ncFDyF"
      },
      "outputs": [],
      "source": [
        "X = ESR.drop(columns = ['y'])\n",
        "y = ESR['y']"
      ]
    },
    {
      "cell_type": "code",
      "execution_count": null,
      "metadata": {
        "id": "ZzcoLxNaFDyF",
        "outputId": "5e2ac08c-24ab-4127-bee9-feae124dd2bf"
      },
      "outputs": [
        {
          "data": {
            "text/plain": [
              "<Axes: >"
            ]
          },
          "execution_count": 99,
          "metadata": {},
          "output_type": "execute_result"
        },
        {
          "data": {
            "image/png": "iVBORw0KGgoAAAANSUhEUgAAAjAAAAGfCAYAAABBU+jJAAAAOXRFWHRTb2Z0d2FyZQBNYXRwbG90bGliIHZlcnNpb24zLjcuMSwgaHR0cHM6Ly9tYXRwbG90bGliLm9yZy/bCgiHAAAACXBIWXMAAA9hAAAPYQGoP6dpAAApl0lEQVR4nO3de3BUZZ7G8ScJSYcoCUYklzVkoi53AghDaEeRawJkUEaqVoQBdBiZoZIpMa4CWwwEmBoEL3hjxCkH2N0hK7gl7AgRaECIYhCMZCFRKUEUZiVhViQhRJuGnP1jKr00uXbsQ/ptvp+qU9Kn3z79/t5fn+SxL+kwy7IsAQAAGCS8vScAAADgLwIMAAAwDgEGAAAYhwADAACMQ4ABAADGIcAAAADjEGAAAIBxCDAAAMA4BBgAAGAcAgwAADBOB38GL1u2TG+99ZY+++wzdezYUXfddZeWL1+uHj16eMcMHz5ce/fu9bndr371K61evdp7+eTJk5o9e7beffdd3XjjjZoxY4aWLVumDh3+fzp79uxRXl6eysvLlZKSogULFujhhx9u9Vzr6ur09ddfq1OnTgoLC/OnTAAA0E4sy9L58+eVnJys8PBmnmex/JCVlWWtXbvWKisrs0pLS63x48db3bp1s2pqarxj7r33XuvRRx+1Tp8+7d2qqqq811+6dMnq27evNXr0aOvQoUNWYWGh1aVLF2v+/PneMV988YUVExNj5eXlWZ988on18ssvWxEREda2bdtaPddTp05ZktjY2NjY2NgM3E6dOtXs7/kwy2r7lzn+7W9/U9euXbV3714NGzZM0t+fgRkwYIBeeOGFRm/zzjvv6Kc//am+/vprJSQkSJJWr16tuXPn6m9/+5uioqI0d+5cbd26VWVlZd7bTZ48WefOndO2bdtaNbeqqip17txZp06dUmxsbFtLbMDj8WjHjh3KzMxUZGRkwI4bTEK9RuozX6jXGOr1SaFfI/W1XXV1tVJSUnTu3DnFxcU1Oc6vl5CuVlVVJUmKj4/32b9+/Xr9+c9/VmJioiZMmKDf/va3iomJkSQVFxerX79+3vAiSVlZWZo9e7bKy8s1cOBAFRcXa/To0T7HzMrK0pw5c5qci9vtltvt9l4+f/68JKljx47q2LHjDynTR4cOHRQTE6OOHTuG5INSCv0aqc98oV5jqNcnhX6N1Nd2Ho9Hklp8+0ebA0xdXZ3mzJmjn/zkJ+rbt693/5QpU5Samqrk5GQdPnxYc+fO1dGjR/XWW29JkioqKnzCiyTv5YqKimbHVFdX67vvvms0kCxbtkyLFy9usH/Hjh3e8BRILpcr4McMNqFeI/WZL9RrDPX6pNCvkfr8V1tb26pxbQ4wOTk5Kisr0/vvv++zf9asWd5/9+vXT0lJSRo1apSOHz+u22+/va1316L58+crLy/Pe7n+KajMzMyAv4Tkcrk0ZsyYkEzVUujXSH3mC/UaQ70+KfRrpL62q66ubtW4NgWY3NxcbdmyRUVFRbr11lubHZuRkSFJOnbsmG6//XYlJibqwIEDPmMqKyslSYmJid7/1u+7ckxsbGyTLwc5HA45HI4G+yMjI2158Nh13GAS6jVSn/lCvcZQr08K/Rqpr23HbA2//g6MZVnKzc3Vpk2btHv3bqWlpbV4m9LSUklSUlKSJMnpdOrIkSM6c+aMd4zL5VJsbKx69+7tHbNr1y6f47hcLjmdTn+mCwAAQpRfASYnJ0d//vOfVVBQoE6dOqmiokIVFRX67rvvJEnHjx/X0qVLVVJSoi+//FJ/+ctfNH36dA0bNkzp6emSpMzMTPXu3VvTpk3Tf//3f2v79u1asGCBcnJyvM+g/PrXv9YXX3yhp556Sp999pn+8Ic/aOPGjXr88ccDXD4AADCRXwHm1VdfVVVVlYYPH66kpCTvtmHDBklSVFSUdu7cqczMTPXs2VNPPPGEJk2apLffftt7jIiICG3ZskURERFyOp36+c9/runTp2vJkiXeMWlpadq6datcLpf69++v5557Tq+//rqysrICVDYAADCZX++BaelPxqSkpDT4K7yNSU1NVWFhYbNjhg8frkOHDvkzPQAAcJ3gu5AAAIBxCDAAAMA4BBgAAGAcAgwAADAOAQYAABiHAAMAAIxDgAEAAMZp85c5Xu/65m+X+3LzX/UdTL58Oru9p9AmP5q3NeDHdERYWjHEvh6autYm4jy0nx3noGTvecg626++f+2JZ2AAAIBxCDAAAMA4BBgAAGAcAgwAADAOAQYAABiHAAMAAIxDgAEAAMYhwAAAAOMQYAAAgHEIMAAAwDgEGAAAYBwCDAAAMA4BBgAAGIcAAwAAjEOAAQAAxiHAAAAA4xBgAACAcQgwAADAOAQYAABgHAIMAAAwDgEGAAAYhwADAACMQ4ABAADGIcAAAADjEGAAAIBxCDAAAMA4BBgAAGAcAgwAADAOAQYAABiHAAMAAIxDgAEAAMYhwAAAAOMQYAAAgHEIMAAAwDgEGAAAYBwCDAAAMA4BBgAAGIcAAwAAjEOAAQAAxiHAAAAA4xBgAACAcQgwAADAOAQYAABgHAIMAAAwDgEGAAAYhwADAACMQ4ABAADGIcAAAADjEGAAAIBxCDAAAMA4BBgAAGAcAgwAADAOAQYAABiHAAMAAIzjV4BZtmyZfvzjH6tTp07q2rWrJk6cqKNHj/qM+f7775WTk6Obb75ZN954oyZNmqTKykqfMSdPnlR2drZiYmLUtWtXPfnkk7p06ZLPmD179ujOO++Uw+HQHXfcoXXr1rWtQgAAEHL8CjB79+5VTk6O9u/fL5fLJY/Ho8zMTF24cME75vHHH9fbb7+tN998U3v37tXXX3+tBx54wHv95cuXlZ2drYsXL+qDDz7Qv/7rv2rdunVauHChd8yJEyeUnZ2tESNGqLS0VHPmzNEvf/lLbd++PQAlAwAA03XwZ/C2bdt8Lq9bt05du3ZVSUmJhg0bpqqqKv3pT39SQUGBRo4cKUlau3atevXqpf3792vo0KHasWOHPvnkE+3cuVMJCQkaMGCAli5dqrlz5yo/P19RUVFavXq10tLS9Nxzz0mSevXqpffff18rV65UVlZWgEoHAACm8ivAXK2qqkqSFB8fL0kqKSmRx+PR6NGjvWN69uypbt26qbi4WEOHDlVxcbH69eunhIQE75isrCzNnj1b5eXlGjhwoIqLi32OUT9mzpw5Tc7F7XbL7XZ7L1dXV0uSPB6PPB7PDynTR/2xHOFWwI55LfizBvVjA7lubeWICPw61/fOrh6297oFU//sEurnYTD10I5zULL3PAyGdfO3h3ats13q+2bHWrf2mGGWZbVp1erq6nTffffp3Llzev/99yVJBQUFeuSRR3yChCQNGTJEI0aM0PLlyzVr1ix99dVXPi8H1dbW6oYbblBhYaHGjRun7t2765FHHtH8+fO9YwoLC5Wdna3a2lp17NixwXzy8/O1ePHiBvsLCgoUExPTlhIBAMA1VltbqylTpqiqqkqxsbFNjmvzMzA5OTkqKyvzhpf2Nn/+fOXl5XkvV1dXKyUlRZmZmc0ugL88Ho9cLpd++1G43HVhATuu3cryW//SW32NY8aMUWRkpI2zalnf/MC/78kRbmnp4DrbeujPWtshmPpnl1A/D4Oph3acg5K952F7n4OS/z20a53tUt8/Ox6j9a+gtKRNASY3N1dbtmxRUVGRbr31Vu/+xMREXbx4UefOnVPnzp29+ysrK5WYmOgdc+DAAZ/j1X9K6coxV39yqbKyUrGxsY0++yJJDodDDoejwf7IyEhbfgC468LkvmzOD862rIFda+cPO9fYrh6295rVC4b+2S3Uz8Ng6KHd62tHD9t7za7U2h6a9Di+kh2P0dYez69PIVmWpdzcXG3atEm7d+9WWlqaz/WDBg1SZGSkdu3a5d139OhRnTx5Uk6nU5LkdDp15MgRnTlzxjvG5XIpNjZWvXv39o658hj1Y+qPAQAArm9+PQOTk5OjgoIC/dd//Zc6deqkiooKSVJcXJw6duyouLg4zZw5U3l5eYqPj1dsbKx+85vfyOl0aujQoZKkzMxM9e7dW9OmTdOKFStUUVGhBQsWKCcnx/sMyq9//Wu98soreuqpp/SLX/xCu3fv1saNG7V169YAlw8AAEzk1zMwr776qqqqqjR8+HAlJSV5tw0bNnjHrFy5Uj/96U81adIkDRs2TImJiXrrrbe810dERGjLli2KiIiQ0+nUz3/+c02fPl1LlizxjklLS9PWrVvlcrnUv39/Pffcc3r99df5CDUAAJDk5zMwrfnAUnR0tFatWqVVq1Y1OSY1NVWFhYXNHmf48OE6dOiQP9MDAADXCb4LCQAAGIcAAwAAjEOAAQAAxiHAAAAA4xBgAACAcQgwAADAOAQYAABgHAIMAAAwDgEGAAAYhwADAACMQ4ABAADGIcAAAADjEGAAAIBxCDAAAMA4BBgAAGAcAgwAADAOAQYAABiHAAMAAIxDgAEAAMYhwAAAAOMQYAAAgHEIMAAAwDgEGAAAYBwCDAAAMA4BBgAAGIcAAwAAjEOAAQAAxiHAAAAA4xBgAACAcQgwAADAOAQYAABgHAIMAAAwDgEGAAAYhwADAACMQ4ABAADGIcAAAADjEGAAAIBxCDAAAMA4BBgAAGAcAgwAADAOAQYAABiHAAMAAIxDgAEAAMYhwAAAAOMQYAAAgHEIMAAAwDgEGAAAYBwCDAAAMA4BBgAAGIcAAwAAjEOAAQAAxiHAAAAA4xBgAACAcQgwAADAOAQYAABgHAIMAAAwDgEGAAAYhwADAACMQ4ABAADGIcAAAADjEGAAAIBxCDAAAMA4BBgAAGAcvwNMUVGRJkyYoOTkZIWFhWnz5s0+1z/88MMKCwvz2caOHesz5uzZs5o6dapiY2PVuXNnzZw5UzU1NT5jDh8+rHvuuUfR0dFKSUnRihUr/K8OAACEJL8DzIULF9S/f3+tWrWqyTFjx47V6dOnvdt//Md/+Fw/depUlZeXy+VyacuWLSoqKtKsWbO811dXVyszM1OpqakqKSnRM888o/z8fP3xj3/0d7oAACAEdfD3BuPGjdO4ceOaHeNwOJSYmNjodZ9++qm2bdumgwcPavDgwZKkl19+WePHj9ezzz6r5ORkrV+/XhcvXtSaNWsUFRWlPn36qLS0VM8//7xP0LmS2+2W2+32Xq6urpYkeTweeTwef8tsUv2xHOFWwI55LfizBvVjA7lubeWICPw61/fOrh6297oFU//sEurnYTD10I5zULL3PAyGdfO3h3ats13q+2bHWrf2mGGWZbV51cLCwrRp0yZNnDjRu+/hhx/W5s2bFRUVpZtuukkjR47U7373O918882SpDVr1uiJJ57Qt99+673NpUuXFB0drTfffFM/+9nPNH36dFVXV/u8PPXuu+9q5MiROnv2rG666aYGc8nPz9fixYsb7C8oKFBMTExbSwQAANdQbW2tpkyZoqqqKsXGxjY5zu9nYFoyduxYPfDAA0pLS9Px48f1L//yLxo3bpyKi4sVERGhiooKde3a1XcSHTooPj5eFRUVkqSKigqlpaX5jElISPBe11iAmT9/vvLy8ryXq6urlZKSoszMzGYXwF8ej0cul0u//Shc7rqwgB3XbmX5Wa0eW1/jmDFjFBkZaeOsWtY3f3vAj+kIt7R0cJ1tPfRnre0QTP2zS6ifh8HUQzvOQcne87C9z0HJ/x7atc52qe+fHY/R+ldQWhLwADN58mTvv/v166f09HTdfvvt2rNnj0aNGhXou/NyOBxyOBwN9kdGRtryA8BdFyb3ZXN+cLZlDexaO3/YucZ29bC916xeMPTPbqF+HgZDD+1eXzt62N5rdqXW9tCkx/GV7HiMtvZ4tn+M+rbbblOXLl107NgxSVJiYqLOnDnjM+bSpUs6e/as930ziYmJqqys9BlTf7mp99YAAIDrh+0B5q9//au++eYbJSUlSZKcTqfOnTunkpIS75jdu3errq5OGRkZ3jFFRUU+b+RxuVzq0aNHoy8fAQCA64vfAaampkalpaUqLS2VJJ04cUKlpaU6efKkampq9OSTT2r//v368ssvtWvXLt1///264447lJX199cke/XqpbFjx+rRRx/VgQMHtG/fPuXm5mry5MlKTk6WJE2ZMkVRUVGaOXOmysvLtWHDBr344os+73EBAADXL78DzEcffaSBAwdq4MCBkqS8vDwNHDhQCxcuVEREhA4fPqz77rtP3bt318yZMzVo0CC99957Pu9PWb9+vXr27KlRo0Zp/Pjxuvvuu33+xktcXJx27NihEydOaNCgQXriiSe0cOHCJj9CDQAAri9+v4l3+PDhau6T19u3t/xO6vj4eBUUFDQ7Jj09Xe+9956/0wMAANcBvgsJAAAYhwADAACMQ4ABAADGIcAAAADjEGAAAIBxCDAAAMA4BBgAAGAcAgwAADAOAQYAABiHAAMAAIxDgAEAAMYhwAAAAOMQYAAAgHEIMAAAwDgEGAAAYBwCDAAAMA4BBgAAGIcAAwAAjEOAAQAAxiHAAAAA4xBgAACAcQgwAADAOAQYAABgHAIMAAAwDgEGAAAYhwADAACMQ4ABAADGIcAAAADjEGAAAIBxCDAAAMA4BBgAAGAcAgwAADAOAQYAABiHAAMAAIxDgAEAAMYhwAAAAOMQYAAAgHEIMAAAwDgEGAAAYBwCDAAAMA4BBgAAGIcAAwAAjEOAAQAAxiHAAAAA4xBgAACAcQgwAADAOAQYAABgHAIMAAAwDgEGAAAYhwADAACMQ4ABAADGIcAAAADjEGAAAIBxCDAAAMA4BBgAAGAcAgwAADAOAQYAABiHAAMAAIxDgAEAAMYhwAAAAOMQYAAAgHEIMAAAwDh+B5iioiJNmDBBycnJCgsL0+bNm32utyxLCxcuVFJSkjp27KjRo0fr888/9xlz9uxZTZ06VbGxsercubNmzpypmpoanzGHDx/WPffco+joaKWkpGjFihX+VwcAAEKS3wHmwoUL6t+/v1atWtXo9StWrNBLL72k1atX68MPP9QNN9ygrKwsff/9994xU6dOVXl5uVwul7Zs2aKioiLNmjXLe311dbUyMzOVmpqqkpISPfPMM8rPz9cf//jHNpQIAABCTQd/bzBu3DiNGzeu0essy9ILL7ygBQsW6P7775ck/du//ZsSEhK0efNmTZ48WZ9++qm2bdumgwcPavDgwZKkl19+WePHj9ezzz6r5ORkrV+/XhcvXtSaNWsUFRWlPn36qLS0VM8//7xP0AEAANcnvwNMc06cOKGKigqNHj3auy8uLk4ZGRkqLi7W5MmTVVxcrM6dO3vDiySNHj1a4eHh+vDDD/Wzn/1MxcXFGjZsmKKiorxjsrKytHz5cn377be66aabGty32+2W2+32Xq6urpYkeTweeTyegNVYfyxHuBWwY14L/qxB/dhArltbOSICv871vbOrh+29bsHUP7uE+nkYTD204xyU7D0Pg2Hd/O2hXetsl/q+2bHWrT1mQANMRUWFJCkhIcFnf0JCgve6iooKde3a1XcSHTooPj7eZ0xaWlqDY9Rf11iAWbZsmRYvXtxg/44dOxQTE9PGipq2dHBdwI9pp8LCQr9v43K5bJiJf1YMse/YdvWwLWtth2Don91C/TwMhh7aeQ5K9vQwWM5BqfU9tHud7WLHY7S2trZV4wIaYNrT/PnzlZeX571cXV2tlJQUZWZmKjY2NmD34/F45HK59NuPwuWuCwvYce1Wlp/V6rH1NY4ZM0aRkZE2zqplffO3B/yYjnBLSwfX2dZDf9baDsHUP7uE+nkYTD204xyU7D0P2/sclPzvoV3rbJf6/tnxGK1/BaUlAQ0wiYmJkqTKykolJSV591dWVmrAgAHeMWfOnPG53aVLl3T27Fnv7RMTE1VZWekzpv5y/ZirORwOORyOBvsjIyNt+QHgrguT+7I5PzjbsgZ2rZ0/7Fxju3rY3mtWLxj6Z7dQPw+DoYd2r68dPWzvNbtSa3to0uP4SnY8Rlt7vID+HZi0tDQlJiZq165d3n3V1dX68MMP5XQ6JUlOp1Pnzp1TSUmJd8zu3btVV1enjIwM75iioiKf18FcLpd69OjR6MtHAADg+uJ3gKmpqVFpaalKS0sl/f2Nu6WlpTp58qTCwsI0Z84c/e53v9Nf/vIXHTlyRNOnT1dycrImTpwoSerVq5fGjh2rRx99VAcOHNC+ffuUm5uryZMnKzk5WZI0ZcoURUVFaebMmSovL9eGDRv04osv+rxEBAAArl9+v4T00UcfacSIEd7L9aFixowZWrdunZ566ilduHBBs2bN0rlz53T33Xdr27Ztio6O9t5m/fr1ys3N1ahRoxQeHq5JkybppZde8l4fFxenHTt2KCcnR4MGDVKXLl20cOFCPkINAAAktSHADB8+XJbV9Me9wsLCtGTJEi1ZsqTJMfHx8SooKGj2ftLT0/Xee+/5Oz0AAHAd4LuQAACAcQgwAADAOAQYAABgHAIMAAAwDgEGAAAYhwADAACMQ4ABAADGIcAAAADjEGAAAIBxCDAAAMA4BBgAAGAcAgwAADAOAQYAABiHAAMAAIxDgAEAAMYhwAAAAOMQYAAAgHEIMAAAwDgEGAAAYBwCDAAAMA4BBgAAGIcAAwAAjEOAAQAAxiHAAAAA4xBgAACAcQgwAADAOAQYAABgHAIMAAAwDgEGAAAYhwADAACMQ4ABAADGIcAAAADjEGAAAIBxCDAAAMA4BBgAAGAcAgwAADAOAQYAABiHAAMAAIxDgAEAAMYhwAAAAOMQYAAAgHEIMAAAwDgEGAAAYBwCDAAAMA4BBgAAGIcAAwAAjEOAAQAAxiHAAAAA4xBgAACAcQgwAADAOAQYAABgHAIMAAAwDgEGAAAYhwADAACMQ4ABAADGIcAAAADjEGAAAIBxCDAAAMA4BBgAAGAcAgwAADAOAQYAABiHAAMAAIwT8ACTn5+vsLAwn61nz57e67///nvl5OTo5ptv1o033qhJkyapsrLS5xgnT55Udna2YmJi1LVrVz355JO6dOlSoKcKAAAM1cGOg/bp00c7d+78/zvp8P938/jjj2vr1q168803FRcXp9zcXD3wwAPat2+fJOny5cvKzs5WYmKiPvjgA50+fVrTp09XZGSkfv/739sxXQAAYBhbAkyHDh2UmJjYYH9VVZX+9Kc/qaCgQCNHjpQkrV27Vr169dL+/fs1dOhQ7dixQ5988ol27typhIQEDRgwQEuXLtXcuXOVn5+vqKgoO6YMAAAMYkuA+fzzz5WcnKzo6Gg5nU4tW7ZM3bp1U0lJiTwej0aPHu0d27NnT3Xr1k3FxcUaOnSoiouL1a9fPyUkJHjHZGVlafbs2SovL9fAgQMbvU+32y232+29XF1dLUnyeDzyeDwBq63+WI5wK2DHvBb8WYP6sYFct7ZyRAR+net7Z1cP23vdgql/dgn18zCYemjHOSjZex4Gw7r520O71tku9X2zY61be8wwy7ICumrvvPOOampq1KNHD50+fVqLFy/W//zP/6isrExvv/22HnnkEZ+gIUlDhgzRiBEjtHz5cs2aNUtfffWVtm/f7r2+trZWN9xwgwoLCzVu3LhG7zc/P1+LFy9usL+goEAxMTGBLBEAANiktrZWU6ZMUVVVlWJjY5scF/BnYK4MGOnp6crIyFBqaqo2btyojh07BvruvObPn6+8vDzv5erqaqWkpCgzM7PZBfCXx+ORy+XSbz8Kl7suLGDHtVtZflarx9bXOGbMGEVGRto4q5b1zd/e8iA/OcItLR1cZ1sP/VlrOwRT/+wS6udhMPXQjnNQsvc8bO9zUPK/h3ats13q+2fHY7T+FZSW2PIS0pU6d+6s7t2769ixYxozZowuXryoc+fOqXPnzt4xlZWV3vfMJCYm6sCBAz7HqP+UUmPvq6nncDjkcDga7I+MjLTlB4C7Lkzuy+b84GzLGti1dv6wc43t6mF7r1m9YOif3UL9PAyGHtq9vnb0sL3X7Eqt7aFJj+Mr2fEYbe3xbP87MDU1NTp+/LiSkpI0aNAgRUZGateuXd7rjx49qpMnT8rpdEqSnE6njhw5ojNnznjHuFwuxcbGqnfv3nZPFwAAGCDgz8D88z//syZMmKDU1FR9/fXXWrRokSIiIvTQQw8pLi5OM2fOVF5enuLj4xUbG6vf/OY3cjqdGjp0qCQpMzNTvXv31rRp07RixQpVVFRowYIFysnJafQZFgAAcP0JeID561//qoceekjffPONbrnlFt19993av3+/brnlFknSypUrFR4erkmTJsntdisrK0t/+MMfvLePiIjQli1bNHv2bDmdTt1www2aMWOGlixZEuipAgAAQwU8wLzxxhvNXh8dHa1Vq1Zp1apVTY5JTU1VYWFhoKcGAABCBN+FBAAAjEOAAQAAxiHAAAAA4xBgAACAcQgwAADAOAQYAABgHAIMAAAwDgEGAAAYhwADAACMQ4ABAADGIcAAAADjEGAAAIBxCDAAAMA4BBgAAGAcAgwAADAOAQYAABiHAAMAAIxDgAEAAMYhwAAAAOMQYAAAgHEIMAAAwDgEGAAAYBwCDAAAMA4BBgAAGIcAAwAAjEOAAQAAxiHAAAAA4xBgAACAcQgwAADAOAQYAABgHAIMAAAwDgEGAAAYhwADAACMQ4ABAADGIcAAAADjEGAAAIBxCDAAAMA4BBgAAGAcAgwAADAOAQYAABiHAAMAAIxDgAEAAMYhwAAAAOMQYAAAgHEIMAAAwDgEGAAAYBwCDAAAMA4BBgAAGIcAAwAAjEOAAQAAxiHAAAAA4xBgAACAcQgwAADAOAQYAABgHAIMAAAwDgEGAAAYhwADAACMQ4ABAADGIcAAAADjEGAAAIBxCDAAAMA4BBgAAGAcAgwAADBOUAeYVatW6Uc/+pGio6OVkZGhAwcOtPeUAABAEAjaALNhwwbl5eVp0aJF+vjjj9W/f39lZWXpzJkz7T01AADQzjq09wSa8vzzz+vRRx/VI488IklavXq1tm7dqjVr1mjevHkNxrvdbrndbu/lqqoqSdLZs2fl8XgCNi+Px6Pa2lp18ITrcl1YwI5rt2+++abVY+tr/OabbxQZGWnjrFrW4dKFwB+zzlJtbZ1tPfRnre0QTP2zS6ifh8HUQzvOQcne87C9z0HJ/x7atc52qe+fHY/R8+fPS5Isy2p+oBWE3G63FRERYW3atMln//Tp06377ruv0dssWrTIksTGxsbGxsYWAtupU6eazQpB+QzM//7v/+ry5ctKSEjw2Z+QkKDPPvus0dvMnz9feXl53st1dXU6e/asbr75ZoWFBS7dV1dXKyUlRadOnVJsbGzAjhtMQr1G6jNfqNcY6vVJoV8j9bWdZVk6f/68kpOTmx0XlAGmLRwOhxwOh8++zp0723Z/sbGxIfmgvFKo10h95gv1GkO9Pin0a6S+tomLi2txTFC+ibdLly6KiIhQZWWlz/7KykolJia206wAAECwCMoAExUVpUGDBmnXrl3efXV1ddq1a5ecTmc7zgwAAASDoH0JKS8vTzNmzNDgwYM1ZMgQvfDCC7pw4YL3U0ntxeFwaNGiRQ1ergoloV4j9Zkv1GsM9fqk0K+R+uwXZlktfU6p/bzyyit65plnVFFRoQEDBuill15SRkZGe08LAAC0s6AOMAAAAI0JyvfAAAAANIcAAwAAjEOAAQAAxiHAAAAA4xBgrlJUVKQJEyYoOTlZYWFh2rx5c4u32bNnj+688045HA7dcccdWrdune3zbCt/69uzZ4/CwsIabBUVFddmwn5atmyZfvzjH6tTp07q2rWrJk6cqKNHj7Z4uzfffFM9e/ZUdHS0+vXrp8LCwmsw27ZpS43r1q1r0MPo6OhrNGP/vPrqq0pPT/f+hU+n06l33nmn2duY1D9/6zOpd415+umnFRYWpjlz5jQ7zqQeXq01NZrUx/z8/AZz7dmzZ7O3aY/+EWCucuHCBfXv31+rVq1q1fgTJ04oOztbI0aMUGlpqebMmaNf/vKX2r59u80zbRt/66t39OhRnT592rt17drVphn+MHv37lVOTo72798vl8slj8ejzMxMXbjQ9De9fvDBB3rooYc0c+ZMHTp0SBMnTtTEiRNVVlZ2DWfeem2pUfr7n/y+sodfffXVNZqxf2699VY9/fTTKikp0UcffaSRI0fq/vvvV3l5eaPjTeufv/VJ5vTuagcPHtRrr72m9PT0ZseZ1sMrtbZGyaw+9unTx2eu77//fpNj261/Afjy6JAlqcE3Yl/tqaeesvr06eOz78EHH7SysrJsnFlgtKa+d99915Jkffvtt9dkToF25swZS5K1d+/eJsf80z/9k5Wdne2zLyMjw/rVr35l9/QCojU1rl271oqLi7t2kwqwm266yXr99dcbvc70/llW8/WZ2rvz589b//iP/2i5XC7r3nvvtR577LEmx5raQ39qNKmPixYtsvr379/q8e3VP56B+YGKi4s1evRon31ZWVkqLi5upxnZY8CAAUpKStKYMWO0b9++9p5Oq1VVVUmS4uPjmxxjeg9bU6Mk1dTUKDU1VSkpKS3+H3+wuHz5st544w1duHChya8RMbl/ralPMrN3OTk5ys7ObtCbxpjaQ39qlMzq4+eff67k5GTddtttmjp1qk6ePNnk2PbqX9B+lYApKioqlJCQ4LMvISFB1dXV+u6779SxY8d2mllgJCUlafXq1Ro8eLDcbrdef/11DR8+XB9++KHuvPPO9p5es+rq6jRnzhz95Cc/Ud++fZsc11QPg/V9PldqbY09evTQmjVrlJ6erqqqKj377LO66667VF5erltvvfUazrh1jhw5IqfTqe+//1433nijNm3apN69ezc61sT++VOfab2TpDfeeEMff/yxDh482KrxJvbQ3xpN6mNGRobWrVunHj166PTp01q8eLHuuecelZWVqVOnTg3Gt1f/CDBoVo8ePdSjRw/v5bvuukvHjx/XypUr9e///u/tOLOW5eTkqKysrNnXbk3X2hqdTqfP/+Hfdddd6tWrl1577TUtXbrU7mn6rUePHiotLVVVVZX+8z//UzNmzNDevXub/CVvGn/qM613p06d0mOPPSaXyxW0b1L9odpSo0l9HDdunPff6enpysjIUGpqqjZu3KiZM2e248x8EWB+oMTERFVWVvrsq6ysVGxsrPHPvjRlyJAhQR8KcnNztWXLFhUVFbX4fzdN9TAxMdHOKf5g/tR4tcjISA0cOFDHjh2zaXY/TFRUlO644w5J0qBBg3Tw4EG9+OKLeu211xqMNbF//tR3tWDvXUlJic6cOePzDO3ly5dVVFSkV155RW63WxERET63Ma2HbanxasHexyt17txZ3bt3b3Ku7dU/3gPzAzmdTu3atctnn8vlavb1bNOVlpYqKSmpvafRKMuylJubq02bNmn37t1KS0tr8Tam9bAtNV7t8uXLOnLkSND28Wp1dXVyu92NXmda/xrTXH1XC/bejRo1SkeOHFFpaal3Gzx4sKZOnarS0tJGf7Gb1sO21Hi1YO/jlWpqanT8+PEm59pu/bP1LcIGOn/+vHXo0CHr0KFDliTr+eeftw4dOmR99dVXlmVZ1rx586xp06Z5x3/xxRdWTEyM9eSTT1qffvqptWrVKisiIsLatm1be5XQLH/rW7lypbV582br888/t44cOWI99thjVnh4uLVz5872KqFZs2fPtuLi4qw9e/ZYp0+f9m61tbXeMdOmTbPmzZvnvbxv3z6rQ4cO1rPPPmt9+umn1qJFi6zIyEjryJEj7VFCi9pS4+LFi63t27dbx48ft0pKSqzJkydb0dHRVnl5eXuU0Kx58+ZZe/futU6cOGEdPnzYmjdvnhUWFmbt2LHDsizz++dvfSb1rilXf0LH9B42pqUaTerjE088Ye3Zs8c6ceKEtW/fPmv06NFWly5drDNnzliWFTz9I8Bcpf5jw1dvM2bMsCzLsmbMmGHde++9DW4zYMAAKyoqyrrtttustWvXXvN5t5a/9S1fvty6/fbbrejoaCs+Pt4aPny4tXv37vaZfCs0Vpskn57ce++93nrrbdy40erevbsVFRVl9enTx9q6deu1nbgf2lLjnDlzrG7dullRUVFWQkKCNX78eOvjjz++9pNvhV/84hdWamqqFRUVZd1yyy3WqFGjvL/cLcv8/vlbn0m9a8rVv9xN72FjWqrRpD4++OCDVlJSkhUVFWX9wz/8g/Xggw9ax44d814fLP0LsyzLsvc5HgAAgMDiPTAAAMA4BBgAAGAcAgwAADAOAQYAABiHAAMAAIxDgAEAAMYhwAAAAOMQYAAAgHEIMAAAwDgEGAAAYBwCDAAAMM7/ARl2NBRyI76VAAAAAElFTkSuQmCC",
            "text/plain": [
              "<Figure size 640x480 with 1 Axes>"
            ]
          },
          "metadata": {},
          "output_type": "display_data"
        }
      ],
      "source": [
        "df['y'].hist()\n"
      ]
    },
    {
      "cell_type": "code",
      "execution_count": null,
      "metadata": {
        "id": "9A5BF8dAFDyG",
        "outputId": "60612353-07e6-42ca-d517-04fe2e345572"
      },
      "outputs": [
        {
          "data": {
            "text/plain": [
              "<Axes: >"
            ]
          },
          "execution_count": 100,
          "metadata": {},
          "output_type": "execute_result"
        },
        {
          "data": {
            "image/png": "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",
            "text/plain": [
              "<Figure size 640x480 with 1 Axes>"
            ]
          },
          "metadata": {},
          "output_type": "display_data"
        }
      ],
      "source": [
        "labels = ['no seizure', 'seizure']\n",
        "seizure = np.sum(y == 1)\n",
        "no_seizure = np.sum(y > 1)\n",
        "\n",
        "sn.barplot(x=labels, y=[no_seizure, seizure])"
      ]
    },
    {
      "cell_type": "code",
      "execution_count": null,
      "metadata": {
        "id": "XqrOUUroFDyG",
        "outputId": "c2910edd-0e7b-472f-f674-ea1c07dd6963"
      },
      "outputs": [
        {
          "name": "stdout",
          "output_type": "stream",
          "text": [
            "The number of trials for the non-seizure class is: 9200\n",
            "The number of trials for the seizure class is: 2300\n"
          ]
        }
      ],
      "source": [
        "print('The number of trials for the non-seizure class is:', no_seizure)\n",
        "print('The number of trials for the seizure class is:', seizure)"
      ]
    },
    {
      "cell_type": "code",
      "execution_count": null,
      "metadata": {
        "id": "TJDAdQJ7FDyG",
        "outputId": "9e45f8f3-be5e-421d-e19a-07dbe8f95a05"
      },
      "outputs": [
        {
          "data": {
            "text/plain": [
              "(11500,)"
            ]
          },
          "execution_count": 102,
          "metadata": {},
          "output_type": "execute_result"
        }
      ],
      "source": [
        "Y = ESR.iloc[:,178].values\n",
        "Y.shape"
      ]
    },
    {
      "cell_type": "code",
      "execution_count": null,
      "metadata": {
        "id": "RUQEDJ-mFDyH",
        "outputId": "f4b01099-13b0-4554-d459-a020cf00bd51"
      },
      "outputs": [
        {
          "data": {
            "text/plain": [
              "array([0, 1, 0, ..., 0, 0, 0])"
            ]
          },
          "execution_count": 103,
          "metadata": {},
          "output_type": "execute_result"
        }
      ],
      "source": [
        "Y[Y>1]=0\n",
        "Y"
      ]
    },
    {
      "cell_type": "code",
      "execution_count": null,
      "metadata": {
        "id": "UFuxETN_FDyH",
        "outputId": "1ccad868-8047-49fd-8c63-6e6921a35b2d"
      },
      "outputs": [
        {
          "data": {
            "text/plain": [
              "(11500, 177)"
            ]
          },
          "execution_count": 104,
          "metadata": {},
          "output_type": "execute_result"
        }
      ],
      "source": [
        "X = ESR.iloc[:,1:178].values\n",
        "X.shape"
      ]
    },
    {
      "cell_type": "markdown",
      "metadata": {
        "id": "P1Wviz2xLwNv"
      },
      "source": [
        "\n",
        "\n",
        "### Data Pre-Processing"
      ]
    },
    {
      "cell_type": "markdown",
      "metadata": {
        "id": "Td2vA3pUIBzf"
      },
      "source": [
        "***Haar Wavelet***\n",
        "\n",
        "*   RBF kernel with 50 component PCA\n",
        "\n",
        "\n",
        "\n",
        "\n",
        "\n",
        "\n",
        "\n"
      ]
    },
    {
      "cell_type": "markdown",
      "metadata": {
        "id": "cyl-r-yCeFes"
      },
      "source": [
        "\n",
        "\n",
        "### Haar"
      ]
    },
    {
      "cell_type": "code",
      "execution_count": null,
      "metadata": {
        "id": "Qsvtxn4mFDyI",
        "outputId": "42bba05f-2f50-418c-902d-9816c165bc53"
      },
      "outputs": [
        {
          "name": "stdout",
          "output_type": "stream",
          "text": [
            "   wavelet_0  wavelet_1  wavelet_2  wavelet_3  wavelet_4  wavelet_5   \n",
            "0      388.5      181.5      -23.0      246.5        4.5     -207.0  \\\n",
            "1      727.5      607.0      485.5     -329.0    -2025.0    -1164.5   \n",
            "2      -77.5      -99.0     -186.0     -197.5     -133.0      -50.0   \n",
            "3     -197.0     -193.0     -153.0     -155.0     -123.0     -162.0   \n",
            "4     -137.0      -71.0     -136.5      -66.5     -140.0      -17.5   \n",
            "\n",
            "   wavelet_6  wavelet_7  wavelet_8  wavelet_9  ...  wavelet_170  wavelet_171   \n",
            "0       61.0       52.0     -209.5     -158.0  ...    16.970563   -18.384776  \\\n",
            "1      668.0      834.0      643.5      639.0  ...    -9.192388    17.677670   \n",
            "2     -179.0      -84.0       -2.0       32.5  ...    19.798990    -1.414214   \n",
            "3     -165.0     -146.0     -138.5     -136.5  ...     6.363961     2.121320   \n",
            "4       83.0     -132.0      -67.5      -42.0  ...    -4.242641    -6.363961   \n",
            "\n",
            "   wavelet_172  wavelet_173  wavelet_174  wavelet_175  wavelet_176   \n",
            "0    -1.414214   -14.849242    17.677670    11.313708    18.384776  \\\n",
            "1    -7.071068   -22.627417     2.828427     2.828427    -3.535534   \n",
            "2     2.121320   -25.455844   -19.798990    11.313708    21.920310   \n",
            "3     0.000000     0.000000     1.414214    -0.707107     5.656854   \n",
            "4     9.192388     2.828427     4.242641     9.899495     6.363961   \n",
            "\n",
            "   wavelet_177  wavelet_178  y  \n",
            "0    -7.778175   -22.627417  0  \n",
            "1     1.414214     9.899495  1  \n",
            "2     3.535534     0.707107  0  \n",
            "3    -3.535534    -2.828427  0  \n",
            "4    12.727922   -11.313708  0  \n",
            "\n",
            "[5 rows x 180 columns]\n"
          ]
        }
      ],
      "source": [
        "X = ESR.iloc[:, :-1]\n",
        "\n",
        "def apply_wavelet_transform(row):\n",
        "    coeffs = pywt.wavedec(row, 'haar', level=2)\n",
        "    return np.concatenate(coeffs)\n",
        "\n",
        "\n",
        "wavelet_data = np.apply_along_axis(apply_wavelet_transform, axis=1, arr=X.to_numpy())\n",
        "\n",
        "\n",
        "wavelet_df = pd.DataFrame(wavelet_data, columns=[f'wavelet_{i}' for i in range(len(wavelet_data[0]))])\n",
        "\n",
        "wavelet_df['y'] = ESR['y']\n",
        "\n",
        "print(wavelet_df.head())\n",
        "\n"
      ]
    },
    {
      "cell_type": "markdown",
      "metadata": {
        "id": "C_ZTgLt4FDyJ"
      },
      "source": [
        " **Data Scaling**"
      ]
    },
    {
      "cell_type": "code",
      "execution_count": null,
      "metadata": {
        "id": "_ZQVaI5aNtjB"
      },
      "outputs": [],
      "source": [
        "X = wavelet_df.iloc[:, :-1]\n",
        "y = wavelet_df['y']\n",
        "\n",
        "num_bins = 5\n",
        "y_categorical = pd.cut(y, bins=num_bins, labels=False)\n",
        "\n",
        "\n",
        "scaler = StandardScaler()\n",
        "X_standardized = scaler.fit_transform(X)\n"
      ]
    },
    {
      "cell_type": "markdown",
      "metadata": {
        "id": "0BycpCb4FDyJ"
      },
      "source": [
        "**PCA with 50 components**"
      ]
    },
    {
      "cell_type": "code",
      "execution_count": null,
      "metadata": {
        "id": "Hc51ZXIwOl2d",
        "outputId": "700c442b-c5a5-40af-c28f-42e5cd285fa8"
      },
      "outputs": [
        {
          "name": "stdout",
          "output_type": "stream",
          "text": [
            "        PC1       PC2       PC3       PC4       PC5       PC6       PC7   \n",
            "0  0.089852 -1.569965  0.749391  2.300708  1.079394  0.396545  1.085365  \\\n",
            "1  4.815092 -4.366820  8.811180 -6.081328  2.403974 -6.056572  2.846337   \n",
            "2 -0.619919  0.250791  0.142535 -0.780557  0.316553  0.007594  0.939809   \n",
            "3  0.127251 -0.260284 -0.218524 -0.042514  0.037713  0.098298  0.084559   \n",
            "4 -0.058238  0.073363 -0.365596 -0.833235  0.185958 -0.769978  0.365749   \n",
            "\n",
            "        PC8       PC9      PC10  ...      PC42      PC43      PC44      PC45   \n",
            "0 -2.517127 -1.799333  0.973587  ...  0.901531 -0.077781 -1.134246  1.061774  \\\n",
            "1 -8.963298  7.376978  0.030580  ... -6.430071 -1.119231  2.551796 -0.600613   \n",
            "2 -0.855647 -0.377385 -0.501338  ... -0.780288 -0.588731  0.641228 -0.050273   \n",
            "3  0.379473 -0.015457 -0.331179  ... -0.140135 -0.455349  0.634094 -0.267213   \n",
            "4 -0.197283 -0.392451  0.444939  ...  0.506945  0.606835 -0.731648 -0.672430   \n",
            "\n",
            "       PC46      PC47      PC48      PC49      PC50  y  \n",
            "0 -0.010978  0.269312 -1.008016 -0.551302  0.547342  0  \n",
            "1 -3.312692  0.165397 -5.237838  1.166950  0.383263  4  \n",
            "2 -0.654682 -0.381447  0.376858  0.209080 -0.070065  0  \n",
            "3  0.185625 -0.059706  0.048288  0.065079 -0.111394  0  \n",
            "4  0.408490  0.189957  1.229647  0.604767 -0.036368  0  \n",
            "\n",
            "[5 rows x 51 columns]\n"
          ]
        }
      ],
      "source": [
        "n_components = 50\n",
        "pca = PCA(n_components=n_components)\n",
        "X_pca = pca.fit_transform(X_standardized)\n",
        "\n",
        "\n",
        "pca_df = pd.DataFrame(data=X_pca, columns=[f'PC{i+1}' for i in range(n_components)])\n",
        "pca_df['y'] = y_categorical\n",
        "\n",
        "\n",
        "print(pca_df.head())\n"
      ]
    },
    {
      "cell_type": "code",
      "execution_count": null,
      "metadata": {
        "id": "RpyUWp47O-MG"
      },
      "outputs": [],
      "source": [
        "X_train, X_temp, y_train, y_temp = train_test_split(\n",
        "    pca_df.iloc[:, :-1],\n",
        "    pca_df['y'],\n",
        "    test_size=0.3,\n",
        "    random_state=42\n",
        ")\n",
        "\n",
        "\n",
        "X_val, X_test, y_val, y_test = train_test_split(\n",
        "    X_temp, y_temp,\n",
        "    test_size=0.5,\n",
        "    random_state=42\n",
        ")\n"
      ]
    },
    {
      "cell_type": "markdown",
      "metadata": {
        "id": "wcwd9emeXb1Q"
      },
      "source": [
        "**SVM with RBF kernel**"
      ]
    },
    {
      "cell_type": "code",
      "execution_count": null,
      "metadata": {
        "id": "M_Wkfj3ePD_E"
      },
      "outputs": [],
      "source": [
        "svm = SVC()\n",
        "\n",
        "\n",
        "param_grid = {\n",
        "    'C': [1, 10],\n",
        "    'kernel': [ 'rbf'],\n",
        "}\n"
      ]
    },
    {
      "cell_type": "code",
      "execution_count": null,
      "metadata": {
        "id": "SXD5PKngFDyJ"
      },
      "outputs": [],
      "source": [
        "\n",
        "\n",
        "grid_search = GridSearchCV(estimator=svm, param_grid=param_grid, cv=5)\n",
        "grid_search.fit(X_train, y_train)\n",
        "\n",
        "\n",
        "best_params = grid_search.best_params_\n",
        "\n",
        "\n",
        "best_svm = SVC(**best_params)\n",
        "best_svm.fit(X_train, y_train)\n",
        "\n",
        "\n",
        "y_val_pred = best_svm.predict(X_val)\n",
        "\n",
        "val_accuracy = accuracy_score(y_val, y_val_pred)\n",
        "val_recall = recall_score(y_val, y_val_pred, pos_label=4)\n",
        "val_precision = precision_score(y_val, y_val_pred, pos_label=4)\n",
        "val_f1 = f1_score(y_val, y_val_pred, pos_label=4)\n",
        "\n",
        "\n",
        "\n",
        "y_test_pred = best_svm.predict(X_test)\n",
        "\n",
        "test_accuracy = accuracy_score(y_test, y_test_pred)\n",
        "test_recall = recall_score(y_test, y_test_pred, pos_label=4)\n",
        "test_precision = precision_score(y_test, y_test_pred, pos_label=4)\n",
        "test_f1 = f1_score(y_test, y_test_pred, pos_label=4)\n",
        "\n",
        "\n",
        "\n"
      ]
    },
    {
      "cell_type": "code",
      "execution_count": null,
      "metadata": {
        "id": "tnJt79G9OLjG",
        "outputId": "368af538-5d72-427a-dfe7-34e95a422365"
      },
      "outputs": [
        {
          "name": "stdout",
          "output_type": "stream",
          "text": [
            "\n",
            "Best Hyperparameters: {'C': 10, 'kernel': 'rbf'}\n",
            "Validation Accuracy: 0.9757\n",
            "Validation Recall: 0.9134\n",
            "Validation Precision: 0.9592\n",
            "Validation F1 Score: 0.9358\n",
            "Test Accuracy: 0.9774\n",
            "Test Recall: 0.9284\n",
            "Test Precision: 0.9629\n",
            "Test F1 Score: 0.9453\n"
          ]
        }
      ],
      "source": [
        "print(f\"\\nBest Hyperparameters: {best_params}\")\n",
        "print(f\"Validation Accuracy: {val_accuracy:.4f}\")\n",
        "print(f\"Validation Recall: {val_recall:.4f}\")\n",
        "print(f\"Validation Precision: {val_precision:.4f}\")\n",
        "print(f\"Validation F1 Score: {val_f1:.4f}\")\n",
        "\n",
        "print(f\"Test Accuracy: {test_accuracy:.4f}\")\n",
        "print(f\"Test Recall: {test_recall:.4f}\")\n",
        "print(f\"Test Precision: {test_precision:.4f}\")\n",
        "print(f\"Test F1 Score: {test_f1:.4f}\")"
      ]
    }
  ],
  "metadata": {
    "colab": {
      "provenance": []
    },
    "kernelspec": {
      "display_name": "Python 3",
      "language": "python",
      "name": "python3"
    },
    "language_info": {
      "codemirror_mode": {
        "name": "ipython",
        "version": 3
      },
      "file_extension": ".py",
      "mimetype": "text/x-python",
      "name": "python",
      "nbconvert_exporter": "python",
      "pygments_lexer": "ipython3",
      "version": "3.10.12"
    },
    "orig_nbformat": 4
  },
  "nbformat": 4,
  "nbformat_minor": 0
}
